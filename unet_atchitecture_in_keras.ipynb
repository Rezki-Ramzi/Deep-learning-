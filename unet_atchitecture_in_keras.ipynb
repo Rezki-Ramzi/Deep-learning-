{
  "nbformat": 4,
  "nbformat_minor": 0,
  "metadata": {
    "colab": {
      "provenance": [],
      "authorship_tag": "ABX9TyOrpY/zprVKNntQuFgTLeSD",
      "include_colab_link": true
    },
    "kernelspec": {
      "name": "python3",
      "display_name": "Python 3"
    },
    "language_info": {
      "name": "python"
    }
  },
  "cells": [
    {
      "cell_type": "markdown",
      "metadata": {
        "id": "view-in-github",
        "colab_type": "text"
      },
      "source": [
        "<a href=\"https://colab.research.google.com/github/Rezki-Ramzi/Deep-learning-/blob/main/unet_atchitecture_in_keras.ipynb\" target=\"_parent\"><img src=\"https://colab.research.google.com/assets/colab-badge.svg\" alt=\"Open In Colab\"/></a>"
      ]
    },
    {
      "cell_type": "code",
      "source": [
        "import tensorflow as tf\n",
        "from tensorflow import keras\n",
        "from keras.layers import (Conv2D, MaxPooling2D, Dense, Dropout, Flatten,\n",
        "                    LeakyReLU, Activation, Input, UpSampling2D, concatenate)\n",
        "from tensorflow.keras.models import Model\n",
        "from tensorflow.keras.optimizers import SGD\n",
        "from tensorflow.keras.models import Sequential\n",
        "from keras import losses"
      ],
      "metadata": {
        "id": "7eFxRqViHy7k"
      },
      "execution_count": null,
      "outputs": []
    },
    {
      "cell_type": "code",
      "execution_count": null,
      "metadata": {
        "id": "--AuoUqWHqNm"
      },
      "outputs": [],
      "source": [
        "input_shape=(None, None, 1)\n",
        "inputs = Input(input_size)\n",
        "\n",
        "conv1 = Conv2D(64, 3, activation='relu', padding='same', kernel_initializer='he_normal')(inputs)\n",
        "conv1 = Conv2D(64, 3, activation='relu', padding='same', kernel_initializer='he_normal')(conv1)\n",
        "pool1 = MaxPooling2D(pool_size=(2, 2))(conv1)\n",
        "conv2 = Conv2D(128, 3, activation='relu', padding='same', kernel_initializer='he_normal')(pool1)\n",
        "conv2 = Conv2D(128, 3, activation='relu', padding='same', kernel_initializer='he_normal')(conv2)\n",
        "pool2 = MaxPooling2D(pool_size=(2, 2))(conv2)\n",
        "conv3 = Conv2D(256, 3, activation='relu', padding='same', kernel_initializer='he_normal')(pool2)\n",
        "conv3 = Conv2D(256, 3, activation='relu', padding='same', kernel_initializer='he_normal')(conv3)\n",
        "pool3 = MaxPooling2D(pool_size=(2, 2))(conv3)\n",
        "conv4 = Conv2D(512, 3, activation='relu', padding='same', kernel_initializer='he_normal')(pool3)\n",
        "conv4 = Conv2D(512, 3, activation='relu', padding='same', kernel_initializer='he_normal')(conv4)\n",
        "drop4 = Dropout(0.5)(conv4)\n",
        "pool4 = MaxPooling2D(pool_size=(2, 2))(drop4)\n",
        "\n",
        "conv5 = Conv2D(1024, 3, activation='relu', padding='same', kernel_initializer='he_normal')(pool4)\n",
        "conv5 = Conv2D(1024, 3, activation='relu', padding='same', kernel_initializer='he_normal')(conv5)\n",
        "drop5 = Dropout(0.5)(conv5)\n",
        "\n",
        "up6 = Conv2D(512, 2, activation='relu', padding='same', kernel_initializer='he_normal')(\n",
        "  UpSampling2D(size=(2, 2))(drop5))\n",
        "merge6 = concatenate([drop4, up6], axis=3)\n",
        "conv6 = Conv2D(512, 3, activation='relu', padding='same', kernel_initializer='he_normal')(merge6)\n",
        "conv6 = Conv2D(512, 3, activation='relu', padding='same', kernel_initializer='he_normal')(conv6)\n",
        "\n",
        "up7 = Conv2D(256, 2, activation='relu', padding='same', kernel_initializer='he_normal')(\n",
        "  UpSampling2D(size=(2, 2))(conv6))\n",
        "merge7 = concatenate([conv3, up7], axis=3)\n",
        "conv7 = Conv2D(256, 3, activation='relu', padding='same', kernel_initializer='he_normal')(merge7)\n",
        "conv7 = Conv2D(256, 3, activation='relu', padding='same', kernel_initializer='he_normal')(conv7)\n",
        "\n",
        "up8 = Conv2D(128, 2, activation='relu', padding='same', kernel_initializer='he_normal')(\n",
        "  UpSampling2D(size=(2, 2))(conv7))\n",
        "merge8 = concatenate([conv2, up8], axis=3)\n",
        "conv8 = Conv2D(128, 3, activation='relu', padding='same', kernel_initializer='he_normal')(merge8)\n",
        "conv8 = Conv2D(128, 3, activation='relu', padding='same', kernel_initializer='he_normal')(conv8)\n",
        "\n",
        "up9 = Conv2D(64, 2, activation='relu', padding='same', kernel_initializer='he_normal')(\n",
        "  UpSampling2D(size=(2, 2))(conv8))\n",
        "merge9 = concatenate([conv1, up9], axis=3)\n",
        "conv9 = Conv2D(256, 3, activation='relu', padding='same', kernel_initializer='he_normal')(merge9)\n",
        "conv9 = Conv2D(512, 3, activation='relu', padding='same', kernel_initializer='he_normal')(conv9)\n",
        "conv9 = Conv2D(2, 3, activation='relu', padding='same', kernel_initializer='he_normal')(conv9)\n",
        "conv10 = Conv2D(1, 1, activation='sigmoid')(conv9)\n",
        "\n",
        "\n",
        "model = Model(inputs=inputs, outputs=conv10)"
      ]
    }
  ]
}