{
  "nbformat": 4,
  "nbformat_minor": 0,
  "metadata": {
    "colab": {
      "provenance": [],
      "include_colab_link": true
    },
    "kernelspec": {
      "name": "python3",
      "display_name": "Python 3"
    },
    "language_info": {
      "name": "python"
    },
    "accelerator": "GPU",
    "gpuClass": "standard"
  },
  "cells": [
    {
      "cell_type": "markdown",
      "metadata": {
        "id": "view-in-github",
        "colab_type": "text"
      },
      "source": [
        "<a href=\"https://colab.research.google.com/github/Rezki-Ramzi/Deep-learning-/blob/main/GRU_forcasting.ipynb\" target=\"_parent\"><img src=\"https://colab.research.google.com/assets/colab-badge.svg\" alt=\"Open In Colab\"/></a>"
      ]
    },
    {
      "cell_type": "code",
      "source": [
        "import math\n",
        "import numpy as np\n",
        "import pandas as pd\n",
        "from sklearn.preprocessing import MinMaxScaler \n",
        "import matplotlib.pyplot as plt\n",
        "import tensorflow as tf\n",
        "from tensorflow import keras\n",
        "from tensorflow.keras import layers\n",
        "import plotly.express as px\n",
        "import plotly.graph_objects as go\n",
        "import datetime as dt\n",
        "from keras.layers import Dense, Dropout, GRU #, LSTM\n",
        "from keras.optimizers import SGD, Adam\n",
        "from keras.models import Sequential"
      ],
      "metadata": {
        "id": "fijzY5gAw3Tx"
      },
      "execution_count": null,
      "outputs": []
    },
    {
      "cell_type": "markdown",
      "source": [
        "# I- IBM dataset:"
      ],
      "metadata": {
        "id": "jW_vWkgpQMa5"
      }
    },
    {
      "cell_type": "code",
      "source": [
        "# First, we get the data\n",
        "dataset = pd.read_csv('/content/archive/IBM_2006-01-01_to_2018-01-01.csv', index_col='Date', parse_dates=['Date'])\n",
        "dataset.head()"
      ],
      "metadata": {
        "colab": {
          "base_uri": "https://localhost:8080/",
          "height": 238
        },
        "id": "pz_fUK0yQKhx",
        "outputId": "9ed64244-8668-4bae-f2ed-848db5275859"
      },
      "execution_count": null,
      "outputs": [
        {
          "output_type": "execute_result",
          "data": {
            "text/plain": [
              "             Open   High    Low  Close    Volume Name\n",
              "Date                                                 \n",
              "2006-01-03  82.45  82.55  80.81  82.06  11715200  IBM\n",
              "2006-01-04  82.20  82.50  81.33  81.95   9840600  IBM\n",
              "2006-01-05  81.40  82.90  81.00  82.50   7213500  IBM\n",
              "2006-01-06  83.95  85.03  83.41  84.95   8197400  IBM\n",
              "2006-01-09  84.10  84.25  83.38  83.73   6858200  IBM"
            ],
            "text/html": [
              "\n",
              "  <div id=\"df-21c991ce-3748-439e-9cf5-bfd3738e6e56\">\n",
              "    <div class=\"colab-df-container\">\n",
              "      <div>\n",
              "<style scoped>\n",
              "    .dataframe tbody tr th:only-of-type {\n",
              "        vertical-align: middle;\n",
              "    }\n",
              "\n",
              "    .dataframe tbody tr th {\n",
              "        vertical-align: top;\n",
              "    }\n",
              "\n",
              "    .dataframe thead th {\n",
              "        text-align: right;\n",
              "    }\n",
              "</style>\n",
              "<table border=\"1\" class=\"dataframe\">\n",
              "  <thead>\n",
              "    <tr style=\"text-align: right;\">\n",
              "      <th></th>\n",
              "      <th>Open</th>\n",
              "      <th>High</th>\n",
              "      <th>Low</th>\n",
              "      <th>Close</th>\n",
              "      <th>Volume</th>\n",
              "      <th>Name</th>\n",
              "    </tr>\n",
              "    <tr>\n",
              "      <th>Date</th>\n",
              "      <th></th>\n",
              "      <th></th>\n",
              "      <th></th>\n",
              "      <th></th>\n",
              "      <th></th>\n",
              "      <th></th>\n",
              "    </tr>\n",
              "  </thead>\n",
              "  <tbody>\n",
              "    <tr>\n",
              "      <th>2006-01-03</th>\n",
              "      <td>82.45</td>\n",
              "      <td>82.55</td>\n",
              "      <td>80.81</td>\n",
              "      <td>82.06</td>\n",
              "      <td>11715200</td>\n",
              "      <td>IBM</td>\n",
              "    </tr>\n",
              "    <tr>\n",
              "      <th>2006-01-04</th>\n",
              "      <td>82.20</td>\n",
              "      <td>82.50</td>\n",
              "      <td>81.33</td>\n",
              "      <td>81.95</td>\n",
              "      <td>9840600</td>\n",
              "      <td>IBM</td>\n",
              "    </tr>\n",
              "    <tr>\n",
              "      <th>2006-01-05</th>\n",
              "      <td>81.40</td>\n",
              "      <td>82.90</td>\n",
              "      <td>81.00</td>\n",
              "      <td>82.50</td>\n",
              "      <td>7213500</td>\n",
              "      <td>IBM</td>\n",
              "    </tr>\n",
              "    <tr>\n",
              "      <th>2006-01-06</th>\n",
              "      <td>83.95</td>\n",
              "      <td>85.03</td>\n",
              "      <td>83.41</td>\n",
              "      <td>84.95</td>\n",
              "      <td>8197400</td>\n",
              "      <td>IBM</td>\n",
              "    </tr>\n",
              "    <tr>\n",
              "      <th>2006-01-09</th>\n",
              "      <td>84.10</td>\n",
              "      <td>84.25</td>\n",
              "      <td>83.38</td>\n",
              "      <td>83.73</td>\n",
              "      <td>6858200</td>\n",
              "      <td>IBM</td>\n",
              "    </tr>\n",
              "  </tbody>\n",
              "</table>\n",
              "</div>\n",
              "      <button class=\"colab-df-convert\" onclick=\"convertToInteractive('df-21c991ce-3748-439e-9cf5-bfd3738e6e56')\"\n",
              "              title=\"Convert this dataframe to an interactive table.\"\n",
              "              style=\"display:none;\">\n",
              "        \n",
              "  <svg xmlns=\"http://www.w3.org/2000/svg\" height=\"24px\"viewBox=\"0 0 24 24\"\n",
              "       width=\"24px\">\n",
              "    <path d=\"M0 0h24v24H0V0z\" fill=\"none\"/>\n",
              "    <path d=\"M18.56 5.44l.94 2.06.94-2.06 2.06-.94-2.06-.94-.94-2.06-.94 2.06-2.06.94zm-11 1L8.5 8.5l.94-2.06 2.06-.94-2.06-.94L8.5 2.5l-.94 2.06-2.06.94zm10 10l.94 2.06.94-2.06 2.06-.94-2.06-.94-.94-2.06-.94 2.06-2.06.94z\"/><path d=\"M17.41 7.96l-1.37-1.37c-.4-.4-.92-.59-1.43-.59-.52 0-1.04.2-1.43.59L10.3 9.45l-7.72 7.72c-.78.78-.78 2.05 0 2.83L4 21.41c.39.39.9.59 1.41.59.51 0 1.02-.2 1.41-.59l7.78-7.78 2.81-2.81c.8-.78.8-2.07 0-2.86zM5.41 20L4 18.59l7.72-7.72 1.47 1.35L5.41 20z\"/>\n",
              "  </svg>\n",
              "      </button>\n",
              "      \n",
              "  <style>\n",
              "    .colab-df-container {\n",
              "      display:flex;\n",
              "      flex-wrap:wrap;\n",
              "      gap: 12px;\n",
              "    }\n",
              "\n",
              "    .colab-df-convert {\n",
              "      background-color: #E8F0FE;\n",
              "      border: none;\n",
              "      border-radius: 50%;\n",
              "      cursor: pointer;\n",
              "      display: none;\n",
              "      fill: #1967D2;\n",
              "      height: 32px;\n",
              "      padding: 0 0 0 0;\n",
              "      width: 32px;\n",
              "    }\n",
              "\n",
              "    .colab-df-convert:hover {\n",
              "      background-color: #E2EBFA;\n",
              "      box-shadow: 0px 1px 2px rgba(60, 64, 67, 0.3), 0px 1px 3px 1px rgba(60, 64, 67, 0.15);\n",
              "      fill: #174EA6;\n",
              "    }\n",
              "\n",
              "    [theme=dark] .colab-df-convert {\n",
              "      background-color: #3B4455;\n",
              "      fill: #D2E3FC;\n",
              "    }\n",
              "\n",
              "    [theme=dark] .colab-df-convert:hover {\n",
              "      background-color: #434B5C;\n",
              "      box-shadow: 0px 1px 3px 1px rgba(0, 0, 0, 0.15);\n",
              "      filter: drop-shadow(0px 1px 2px rgba(0, 0, 0, 0.3));\n",
              "      fill: #FFFFFF;\n",
              "    }\n",
              "  </style>\n",
              "\n",
              "      <script>\n",
              "        const buttonEl =\n",
              "          document.querySelector('#df-21c991ce-3748-439e-9cf5-bfd3738e6e56 button.colab-df-convert');\n",
              "        buttonEl.style.display =\n",
              "          google.colab.kernel.accessAllowed ? 'block' : 'none';\n",
              "\n",
              "        async function convertToInteractive(key) {\n",
              "          const element = document.querySelector('#df-21c991ce-3748-439e-9cf5-bfd3738e6e56');\n",
              "          const dataTable =\n",
              "            await google.colab.kernel.invokeFunction('convertToInteractive',\n",
              "                                                     [key], {});\n",
              "          if (!dataTable) return;\n",
              "\n",
              "          const docLinkHtml = 'Like what you see? Visit the ' +\n",
              "            '<a target=\"_blank\" href=https://colab.research.google.com/notebooks/data_table.ipynb>data table notebook</a>'\n",
              "            + ' to learn more about interactive tables.';\n",
              "          element.innerHTML = '';\n",
              "          dataTable['output_type'] = 'display_data';\n",
              "          await google.colab.output.renderOutput(dataTable, element);\n",
              "          const docLink = document.createElement('div');\n",
              "          docLink.innerHTML = docLinkHtml;\n",
              "          element.appendChild(docLink);\n",
              "        }\n",
              "      </script>\n",
              "    </div>\n",
              "  </div>\n",
              "  "
            ]
          },
          "metadata": {},
          "execution_count": 134
        }
      ]
    },
    {
      "cell_type": "code",
      "source": [
        "training_set = dataset[:'2016'].iloc[:,1:2].values\n",
        "test_set = dataset['2017':].iloc[:,1:2].values"
      ],
      "metadata": {
        "id": "zPAT4YrcQKkF"
      },
      "execution_count": null,
      "outputs": []
    },
    {
      "cell_type": "code",
      "source": [
        "training_set"
      ],
      "metadata": {
        "colab": {
          "base_uri": "https://localhost:8080/"
        },
        "id": "Uuvv3_a7QKy7",
        "outputId": "ed4087ea-89ad-43c2-c1a3-1b0dcfa53455"
      },
      "execution_count": null,
      "outputs": [
        {
          "output_type": "execute_result",
          "data": {
            "text/plain": [
              "array([[ 82.55],\n",
              "       [ 82.5 ],\n",
              "       [ 82.9 ],\n",
              "       ...,\n",
              "       [167.74],\n",
              "       [166.99],\n",
              "       [166.7 ]])"
            ]
          },
          "metadata": {},
          "execution_count": 136
        }
      ]
    },
    {
      "cell_type": "code",
      "source": [
        "dataset[\"High\"][:'2016'].plot(figsize=(16,4),legend=True)\n",
        "dataset[\"High\"]['2017':].plot(figsize=(16,4),legend=True)\n",
        "plt.legend(['Training set (Before 2017)','Test set (2017 and beyond)'])\n",
        "plt.title('IBM stock price')\n",
        "plt.show()"
      ],
      "metadata": {
        "colab": {
          "base_uri": "https://localhost:8080/",
          "height": 285
        },
        "id": "H-_UjlYFQK8b",
        "outputId": "c1b258fd-0342-4fb6-9c54-aead901bfde7"
      },
      "execution_count": null,
      "outputs": [
        {
          "output_type": "display_data",
          "data": {
            "text/plain": [
              "<Figure size 1152x288 with 1 Axes>"
            ],
            "image/png": "[encoded data removed]"
          },
          "metadata": {
            "needs_background": "light"
          }
        }
      ]
    },
    {
      "cell_type": "code",
      "source": [
        "sc = MinMaxScaler(feature_range=(0,1))\n",
        "training_set_scaled = sc.fit_transform(training_set)"
      ],
      "metadata": {
        "id": "S_hCXmsTQK_p"
      },
      "execution_count": null,
      "outputs": []
    },
    {
      "cell_type": "code",
      "source": [
        "X_train = []\n",
        "y_train = []\n",
        "memo = 60\n",
        "for i in range(memo,len(training_set)):\n",
        "    X_train.append(training_set_scaled[i-60:i,0])\n",
        "    y_train.append(training_set_scaled[i,0])\n",
        "X_train, y_train = np.array(X_train), np.array(y_train)"
      ],
      "metadata": {
        "id": "NIro4C3IQLL2"
      },
      "execution_count": null,
      "outputs": []
    },
    {
      "cell_type": "code",
      "source": [
        "X_train.shape"
      ],
      "metadata": {
        "colab": {
          "base_uri": "https://localhost:8080/"
        },
        "id": "XRSAjz9RQ0AO",
        "outputId": "1713ed7f-27a7-4399-a93e-7405742ebb4b"
      },
      "execution_count": null,
      "outputs": [
        {
          "output_type": "execute_result",
          "data": {
            "text/plain": [
              "(2709, 60)"
            ]
          },
          "metadata": {},
          "execution_count": 142
        }
      ]
    },
    {
      "cell_type": "code",
      "source": [
        "X_train = np.reshape(X_train, (X_train.shape[0],X_train.shape[1],1))"
      ],
      "metadata": {
        "id": "gcZynZ25Q0CI"
      },
      "execution_count": null,
      "outputs": []
    },
    {
      "cell_type": "code",
      "source": [
        "X_train.shape"
      ],
      "metadata": {
        "colab": {
          "base_uri": "https://localhost:8080/"
        },
        "id": "SwNaOXzJQ0FK",
        "outputId": "371140b3-ef36-4c08-dbd4-ce285f915ee6"
      },
      "execution_count": null,
      "outputs": [
        {
          "output_type": "execute_result",
          "data": {
            "text/plain": [
              "(2709, 60, 1)"
            ]
          },
          "metadata": {},
          "execution_count": 144
        }
      ]
    },
    {
      "cell_type": "code",
      "source": [
        "# The GRU architecture\n",
        "model = Sequential()\n",
        "# First GRU layer\n",
        "model.add(GRU(units=50, return_sequences=True, input_shape=(X_train.shape[1],1), activation='tanh'))\n",
        "model.add(Dropout(0.2))\n",
        "# Second GRU layer\n",
        "model.add(GRU(units=50, return_sequences=True, input_shape=(X_train.shape[1],1), activation='tanh'))\n",
        "model.add(Dropout(0.2))\n",
        "# Third GRU layer\n",
        "model.add(GRU(units=50, return_sequences=True, input_shape=(X_train.shape[1],1), activation='tanh'))\n",
        "model.add(Dropout(0.2))\n",
        "# Fourth GRU layer\n",
        "model.add(GRU(units=50, activation='tanh'))\n",
        "model.add(Dropout(0.2))\n",
        "# The output layer\n",
        "model.add(Dense(units=1))\n",
        "\n"
      ],
      "metadata": {
        "id": "LibiZpRQQ0HI"
      },
      "execution_count": null,
      "outputs": []
    },
    {
      "cell_type": "code",
      "source": [
        "# Compiling the GRU\n",
        "model.compile(optimizer='adam',loss='mean_squared_error')"
      ],
      "metadata": {
        "id": "zeLh12o9RKR9"
      },
      "execution_count": null,
      "outputs": []
    },
    {
      "cell_type": "code",
      "source": [
        "model.summary()"
      ],
      "metadata": {
        "colab": {
          "base_uri": "https://localhost:8080/"
        },
        "id": "-RhxsAnbRM4C",
        "outputId": "eddf6f23-d449-4c8b-b67e-95a127ab2ce5"
      },
      "execution_count": null,
      "outputs": [
        {
          "output_type": "stream",
          "name": "stdout",
          "text": [
            "Model: \"sequential_6\"\n",
            "_________________________________________________________________\n",
            " Layer (type)                Output Shape              Param #   \n",
            "=================================================================\n",
            " gru_24 (GRU)                (None, 60, 50)            7950      \n",
            "                                                                 \n",
            " dropout_24 (Dropout)        (None, 60, 50)            0         \n",
            "                                                                 \n",
            " gru_25 (GRU)                (None, 60, 50)            15300     \n",
            "                                                                 \n",
            " dropout_25 (Dropout)        (None, 60, 50)            0         \n",
            "                                                                 \n",
            " gru_26 (GRU)                (None, 60, 50)            15300     \n",
            "                                                                 \n",
            " dropout_26 (Dropout)        (None, 60, 50)            0         \n",
            "                                                                 \n",
            " gru_27 (GRU)                (None, 50)                15300     \n",
            "                                                                 \n",
            " dropout_27 (Dropout)        (None, 50)                0         \n",
            "                                                                 \n",
            " dense_6 (Dense)             (None, 1)                 51        \n",
            "                                                                 \n",
            "=================================================================\n",
            "Total params: 53,901\n",
            "Trainable params: 53,901\n",
            "Non-trainable params: 0\n",
            "_________________________________________________________________\n"
          ]
        }
      ]
    },
    {
      "cell_type": "code",
      "source": [
        "# Training the GRU\n",
        "history = model.fit(X_train,\n",
        "                 y_train,\n",
        "                 epochs=100,\n",
        "                 batch_size=132,\n",
        "          validation_split=0.2)"
      ],
      "metadata": {
        "colab": {
          "base_uri": "https://localhost:8080/"
        },
        "id": "G-OGSPMxRPdE",
        "outputId": "6c9eb076-15f4-4a03-ff29-a8760a58e78c"
      },
      "execution_count": null,
      "outputs": [
        {
          "output_type": "stream",
          "name": "stdout",
          "text": [
            "Epoch 1/100\n",
            "17/17 [==============================] - 9s 132ms/step - loss: 0.0938 - val_loss: 0.0196\n",
            "Epoch 2/100\n",
            "17/17 [==============================] - 0s 23ms/step - loss: 0.0180 - val_loss: 0.0032\n",
            "Epoch 3/100\n",
            "17/17 [==============================] - 0s 18ms/step - loss: 0.0075 - val_loss: 0.0012\n",
            "Epoch 4/100\n",
            "17/17 [==============================] - 0s 17ms/step - loss: 0.0059 - val_loss: 8.1348e-04\n",
            "Epoch 5/100\n",
            "17/17 [==============================] - 0s 18ms/step - loss: 0.0049 - val_loss: 0.0010\n",
            "Epoch 6/100\n",
            "17/17 [==============================] - 0s 17ms/step - loss: 0.0047 - val_loss: 5.4984e-04\n",
            "Epoch 7/100\n",
            "17/17 [==============================] - 0s 18ms/step - loss: 0.0046 - val_loss: 7.9145e-04\n",
            "Epoch 8/100\n",
            "17/17 [==============================] - 0s 18ms/step - loss: 0.0044 - val_loss: 5.8318e-04\n",
            "Epoch 9/100\n",
            "17/17 [==============================] - 0s 18ms/step - loss: 0.0044 - val_loss: 5.5847e-04\n",
            "Epoch 10/100\n",
            "17/17 [==============================] - 0s 18ms/step - loss: 0.0040 - val_loss: 6.5801e-04\n",
            "Epoch 11/100\n",
            "17/17 [==============================] - 0s 19ms/step - loss: 0.0037 - val_loss: 0.0010\n",
            "Epoch 12/100\n",
            "17/17 [==============================] - 1s 33ms/step - loss: 0.0038 - val_loss: 5.7384e-04\n",
            "Epoch 13/100\n",
            "17/17 [==============================] - 0s 26ms/step - loss: 0.0038 - val_loss: 7.5340e-04\n",
            "Epoch 14/100\n",
            "17/17 [==============================] - 0s 24ms/step - loss: 0.0038 - val_loss: 5.8050e-04\n",
            "Epoch 15/100\n",
            "17/17 [==============================] - 0s 27ms/step - loss: 0.0035 - val_loss: 6.6249e-04\n",
            "Epoch 16/100\n",
            "17/17 [==============================] - 1s 31ms/step - loss: 0.0033 - val_loss: 6.6751e-04\n",
            "Epoch 17/100\n",
            "17/17 [==============================] - 0s 27ms/step - loss: 0.0033 - val_loss: 6.4072e-04\n",
            "Epoch 18/100\n",
            "17/17 [==============================] - 0s 25ms/step - loss: 0.0032 - val_loss: 5.8531e-04\n",
            "Epoch 19/100\n",
            "17/17 [==============================] - 0s 17ms/step - loss: 0.0031 - val_loss: 5.7404e-04\n",
            "Epoch 20/100\n",
            "17/17 [==============================] - 0s 18ms/step - loss: 0.0032 - val_loss: 6.8181e-04\n",
            "Epoch 21/100\n",
            "17/17 [==============================] - 0s 17ms/step - loss: 0.0029 - val_loss: 5.6171e-04\n",
            "Epoch 22/100\n",
            "17/17 [==============================] - 0s 17ms/step - loss: 0.0031 - val_loss: 0.0010\n",
            "Epoch 23/100\n",
            "17/17 [==============================] - 0s 17ms/step - loss: 0.0031 - val_loss: 5.6064e-04\n",
            "Epoch 24/100\n",
            "17/17 [==============================] - 1s 31ms/step - loss: 0.0030 - val_loss: 9.3648e-04\n",
            "Epoch 25/100\n",
            "17/17 [==============================] - 0s 28ms/step - loss: 0.0029 - val_loss: 5.5498e-04\n",
            "Epoch 26/100\n",
            "17/17 [==============================] - 0s 24ms/step - loss: 0.0027 - val_loss: 6.1082e-04\n",
            "Epoch 27/100\n",
            "17/17 [==============================] - 0s 18ms/step - loss: 0.0026 - val_loss: 8.7503e-04\n",
            "Epoch 28/100\n",
            "17/17 [==============================] - 0s 17ms/step - loss: 0.0027 - val_loss: 5.8365e-04\n",
            "Epoch 29/100\n",
            "17/17 [==============================] - 0s 20ms/step - loss: 0.0028 - val_loss: 5.4337e-04\n",
            "Epoch 30/100\n",
            "17/17 [==============================] - 0s 18ms/step - loss: 0.0027 - val_loss: 5.7738e-04\n",
            "Epoch 31/100\n",
            "17/17 [==============================] - 0s 17ms/step - loss: 0.0029 - val_loss: 5.9096e-04\n",
            "Epoch 32/100\n",
            "17/17 [==============================] - 0s 17ms/step - loss: 0.0028 - val_loss: 6.6032e-04\n",
            "Epoch 33/100\n",
            "17/17 [==============================] - 0s 17ms/step - loss: 0.0028 - val_loss: 7.1885e-04\n",
            "Epoch 34/100\n",
            "17/17 [==============================] - 0s 18ms/step - loss: 0.0027 - val_loss: 7.7031e-04\n",
            "Epoch 35/100\n",
            "17/17 [==============================] - 0s 17ms/step - loss: 0.0028 - val_loss: 8.0936e-04\n",
            "Epoch 36/100\n",
            "17/17 [==============================] - 0s 18ms/step - loss: 0.0025 - val_loss: 6.1862e-04\n",
            "Epoch 37/100\n",
            "17/17 [==============================] - 0s 17ms/step - loss: 0.0027 - val_loss: 7.0865e-04\n",
            "Epoch 38/100\n",
            "17/17 [==============================] - 0s 17ms/step - loss: 0.0028 - val_loss: 6.8123e-04\n",
            "Epoch 39/100\n",
            "17/17 [==============================] - 0s 17ms/step - loss: 0.0027 - val_loss: 5.2436e-04\n",
            "Epoch 40/100\n",
            "17/17 [==============================] - 0s 17ms/step - loss: 0.0030 - val_loss: 7.3478e-04\n",
            "Epoch 41/100\n",
            "17/17 [==============================] - 0s 17ms/step - loss: 0.0026 - val_loss: 9.4178e-04\n",
            "Epoch 42/100\n",
            "17/17 [==============================] - 0s 17ms/step - loss: 0.0026 - val_loss: 6.0428e-04\n",
            "Epoch 43/100\n",
            "17/17 [==============================] - 0s 17ms/step - loss: 0.0026 - val_loss: 5.1309e-04\n",
            "Epoch 44/100\n",
            "17/17 [==============================] - 0s 19ms/step - loss: 0.0023 - val_loss: 5.3884e-04\n",
            "Epoch 45/100\n",
            "17/17 [==============================] - 0s 17ms/step - loss: 0.0023 - val_loss: 6.6715e-04\n",
            "Epoch 46/100\n",
            "17/17 [==============================] - 0s 18ms/step - loss: 0.0024 - val_loss: 5.1093e-04\n",
            "Epoch 47/100\n",
            "17/17 [==============================] - 0s 17ms/step - loss: 0.0024 - val_loss: 5.0526e-04\n",
            "Epoch 48/100\n",
            "17/17 [==============================] - 0s 20ms/step - loss: 0.0024 - val_loss: 5.9420e-04\n",
            "Epoch 49/100\n",
            "17/17 [==============================] - 0s 17ms/step - loss: 0.0023 - val_loss: 4.8711e-04\n",
            "Epoch 50/100\n",
            "17/17 [==============================] - 0s 17ms/step - loss: 0.0023 - val_loss: 5.0307e-04\n",
            "Epoch 51/100\n",
            "17/17 [==============================] - 0s 17ms/step - loss: 0.0022 - val_loss: 5.5827e-04\n",
            "Epoch 52/100\n",
            "17/17 [==============================] - 0s 18ms/step - loss: 0.0024 - val_loss: 4.7809e-04\n",
            "Epoch 53/100\n",
            "17/17 [==============================] - 0s 18ms/step - loss: 0.0025 - val_loss: 6.1539e-04\n",
            "Epoch 54/100\n",
            "17/17 [==============================] - 0s 17ms/step - loss: 0.0024 - val_loss: 8.3065e-04\n",
            "Epoch 55/100\n",
            "17/17 [==============================] - 0s 17ms/step - loss: 0.0023 - val_loss: 4.6917e-04\n",
            "Epoch 56/100\n",
            "17/17 [==============================] - 0s 17ms/step - loss: 0.0023 - val_loss: 4.9101e-04\n",
            "Epoch 57/100\n",
            "17/17 [==============================] - 0s 18ms/step - loss: 0.0024 - val_loss: 4.6250e-04\n",
            "Epoch 58/100\n",
            "17/17 [==============================] - 0s 17ms/step - loss: 0.0023 - val_loss: 4.9855e-04\n",
            "Epoch 59/100\n",
            "17/17 [==============================] - 0s 17ms/step - loss: 0.0022 - val_loss: 5.5211e-04\n",
            "Epoch 60/100\n",
            "17/17 [==============================] - 0s 18ms/step - loss: 0.0022 - val_loss: 0.0012\n",
            "Epoch 61/100\n",
            "17/17 [==============================] - 0s 17ms/step - loss: 0.0024 - val_loss: 4.5293e-04\n",
            "Epoch 62/100\n",
            "17/17 [==============================] - 0s 17ms/step - loss: 0.0022 - val_loss: 5.6850e-04\n",
            "Epoch 63/100\n",
            "17/17 [==============================] - 0s 17ms/step - loss: 0.0023 - val_loss: 4.8001e-04\n",
            "Epoch 64/100\n",
            "17/17 [==============================] - 0s 18ms/step - loss: 0.0021 - val_loss: 4.7894e-04\n",
            "Epoch 65/100\n",
            "17/17 [==============================] - 0s 17ms/step - loss: 0.0023 - val_loss: 4.5399e-04\n",
            "Epoch 66/100\n",
            "17/17 [==============================] - 0s 17ms/step - loss: 0.0021 - val_loss: 4.4028e-04\n",
            "Epoch 67/100\n",
            "17/17 [==============================] - 0s 18ms/step - loss: 0.0021 - val_loss: 4.3058e-04\n",
            "Epoch 68/100\n",
            "17/17 [==============================] - 0s 17ms/step - loss: 0.0021 - val_loss: 6.3167e-04\n",
            "Epoch 69/100\n",
            "17/17 [==============================] - 0s 18ms/step - loss: 0.0022 - val_loss: 6.9192e-04\n",
            "Epoch 70/100\n",
            "17/17 [==============================] - 0s 17ms/step - loss: 0.0023 - val_loss: 5.1809e-04\n",
            "Epoch 71/100\n",
            "17/17 [==============================] - 0s 18ms/step - loss: 0.0022 - val_loss: 9.9155e-04\n",
            "Epoch 72/100\n",
            "17/17 [==============================] - 0s 17ms/step - loss: 0.0025 - val_loss: 4.4827e-04\n",
            "Epoch 73/100\n",
            "17/17 [==============================] - 0s 19ms/step - loss: 0.0020 - val_loss: 4.1344e-04\n",
            "Epoch 74/100\n",
            "17/17 [==============================] - 0s 17ms/step - loss: 0.0023 - val_loss: 8.0307e-04\n",
            "Epoch 75/100\n",
            "17/17 [==============================] - 0s 17ms/step - loss: 0.0021 - val_loss: 5.8127e-04\n",
            "Epoch 76/100\n",
            "17/17 [==============================] - 0s 17ms/step - loss: 0.0021 - val_loss: 7.1778e-04\n",
            "Epoch 77/100\n",
            "17/17 [==============================] - 0s 18ms/step - loss: 0.0021 - val_loss: 6.2632e-04\n",
            "Epoch 78/100\n",
            "17/17 [==============================] - 0s 17ms/step - loss: 0.0024 - val_loss: 0.0018\n",
            "Epoch 79/100\n",
            "17/17 [==============================] - 0s 17ms/step - loss: 0.0022 - val_loss: 5.1643e-04\n",
            "Epoch 80/100\n",
            "17/17 [==============================] - 0s 17ms/step - loss: 0.0020 - val_loss: 4.0295e-04\n",
            "Epoch 81/100\n",
            "17/17 [==============================] - 0s 17ms/step - loss: 0.0019 - val_loss: 4.0632e-04\n",
            "Epoch 82/100\n",
            "17/17 [==============================] - 0s 17ms/step - loss: 0.0020 - val_loss: 4.9485e-04\n",
            "Epoch 83/100\n",
            "17/17 [==============================] - 0s 17ms/step - loss: 0.0019 - val_loss: 4.4123e-04\n",
            "Epoch 84/100\n",
            "17/17 [==============================] - 0s 17ms/step - loss: 0.0019 - val_loss: 3.7019e-04\n",
            "Epoch 85/100\n",
            "17/17 [==============================] - 0s 18ms/step - loss: 0.0020 - val_loss: 4.7127e-04\n",
            "Epoch 86/100\n",
            "17/17 [==============================] - 0s 18ms/step - loss: 0.0018 - val_loss: 4.3075e-04\n",
            "Epoch 87/100\n",
            "17/17 [==============================] - 0s 17ms/step - loss: 0.0019 - val_loss: 3.8157e-04\n",
            "Epoch 88/100\n",
            "17/17 [==============================] - 0s 17ms/step - loss: 0.0019 - val_loss: 4.7556e-04\n",
            "Epoch 89/100\n",
            "17/17 [==============================] - 0s 17ms/step - loss: 0.0021 - val_loss: 5.0442e-04\n",
            "Epoch 90/100\n",
            "17/17 [==============================] - 0s 18ms/step - loss: 0.0019 - val_loss: 3.6292e-04\n",
            "Epoch 91/100\n",
            "17/17 [==============================] - 0s 17ms/step - loss: 0.0021 - val_loss: 0.0013\n",
            "Epoch 92/100\n",
            "17/17 [==============================] - 0s 18ms/step - loss: 0.0020 - val_loss: 4.0636e-04\n",
            "Epoch 93/100\n",
            "17/17 [==============================] - 0s 17ms/step - loss: 0.0018 - val_loss: 6.1432e-04\n",
            "Epoch 94/100\n",
            "17/17 [==============================] - 0s 17ms/step - loss: 0.0019 - val_loss: 4.3977e-04\n",
            "Epoch 95/100\n",
            "17/17 [==============================] - 0s 18ms/step - loss: 0.0018 - val_loss: 8.3797e-04\n",
            "Epoch 96/100\n",
            "17/17 [==============================] - 0s 19ms/step - loss: 0.0020 - val_loss: 7.9411e-04\n",
            "Epoch 97/100\n",
            "17/17 [==============================] - 0s 18ms/step - loss: 0.0019 - val_loss: 3.6348e-04\n",
            "Epoch 98/100\n",
            "17/17 [==============================] - 0s 17ms/step - loss: 0.0018 - val_loss: 3.6259e-04\n",
            "Epoch 99/100\n",
            "17/17 [==============================] - 0s 18ms/step - loss: 0.0019 - val_loss: 3.6097e-04\n",
            "Epoch 100/100\n",
            "17/17 [==============================] - 0s 18ms/step - loss: 0.0019 - val_loss: 3.7704e-04\n"
          ]
        }
      ]
    },
    {
      "cell_type": "code",
      "source": [
        "plt.plot(history.history['loss'], label = 'training loss')\n",
        "plt.plot(history.history['val_loss'], label ='validation loss')\n",
        "plt.legend()"
      ],
      "metadata": {
        "colab": {
          "base_uri": "https://localhost:8080/",
          "height": 282
        },
        "id": "NzEwgytARPvP",
        "outputId": "83ad6643-a995-4b57-fe72-4c3c2ac02483"
      },
      "execution_count": null,
      "outputs": [
        {
          "output_type": "execute_result",
          "data": {
            "text/plain": [
              "<matplotlib.legend.Legend at 0x7fd60a2b6290>"
            ]
          },
          "metadata": {},
          "execution_count": 155
        },
        {
          "output_type": "display_data",
          "data": {
            "text/plain": [
              "<Figure size 432x288 with 1 Axes>"
            ],
            "image/png": "[encoded data removed]"
          },
          "metadata": {
            "needs_background": "light"
          }
        }
      ]
    },
    {
      "cell_type": "code",
      "source": [
        "dataset_total = pd.concat((dataset[\"High\"][:'2016'],dataset[\"High\"]['2017':]),axis=0)\n",
        "inputs = dataset_total[len(dataset_total)-len(test_set) - memo:].values\n",
        "inputs = inputs.reshape(-1,1)\n",
        "\n",
        "inputs  = sc.transform(inputs)"
      ],
      "metadata": {
        "id": "UCsKygUURPyX"
      },
      "execution_count": null,
      "outputs": []
    },
    {
      "cell_type": "code",
      "source": [
        "X_test = []\n",
        "for i in range(memo,len(inputs)):\n",
        "    X_test.append(inputs[i-memo:i,0])\n",
        "X_test = np.array(X_test)\n",
        "X_test = np.reshape(X_test, (X_test.shape[0],X_test.shape[1],1))\n",
        "predicted_stock_price = model.predict(X_test)\n",
        "predicted_stock_price = sc.inverse_transform(predicted_stock_price)"
      ],
      "metadata": {
        "colab": {
          "base_uri": "https://localhost:8080/"
        },
        "id": "FHOJC4WWSDRE",
        "outputId": "73eb1aaf-a67a-4a70-a19e-f92c2bd0fc0a"
      },
      "execution_count": null,
      "outputs": [
        {
          "output_type": "stream",
          "name": "stdout",
          "text": [
            "8/8 [==============================] - 1s 9ms/step\n"
          ]
        }
      ]
    },
    {
      "cell_type": "code",
      "source": [
        "def plot_predictions(test,predicted):\n",
        "    plt.plot(test, color='red',label='Real IBM Stock Price')\n",
        "    plt.plot(predicted, color='blue',label='Predicted IBM Stock Price')\n",
        "    plt.title('IBM Stock Price Prediction')\n",
        "    plt.xlabel('Time')\n",
        "    plt.ylabel('IBM Stock Price')\n",
        "    plt.legend()\n",
        "    plt.show()"
      ],
      "metadata": {
        "id": "_3QulAR5TMOB"
      },
      "execution_count": null,
      "outputs": []
    },
    {
      "cell_type": "code",
      "source": [
        "plot_predictions(test_set,predicted_stock_price)"
      ],
      "metadata": {
        "colab": {
          "base_uri": "https://localhost:8080/",
          "height": 295
        },
        "id": "dH4DZOB9SDSu",
        "outputId": "aecbea18-ccef-4c27-e2f5-73f1f61dd382"
      },
      "execution_count": null,
      "outputs": [
        {
          "output_type": "display_data",
          "data": {
            "text/plain": [
              "<Figure size 432x288 with 1 Axes>"
            ],
            "image/png": "[encoded data removed]"
          },
          "metadata": {
            "needs_background": "light"
          }
        }
      ]
    },
    {
      "cell_type": "markdown",
      "source": [
        "## II- Oil price:"
      ],
      "metadata": {
        "id": "hLKxx_u-TlAo"
      }
    },
    {
      "cell_type": "code",
      "source": [
        "dataset2 = pd.read_csv('/content/BrentOilPrices.csv', index_col='Date', parse_dates=['Date'])\n",
        "dataset2.head()"
      ],
      "metadata": {
        "colab": {
          "base_uri": "https://localhost:8080/",
          "height": 238
        },
        "outputId": "51fc076d-d605-4a70-aaed-853cd6208ef5",
        "id": "GyOvlisZVTW1"
      },
      "execution_count": null,
      "outputs": [
        {
          "output_type": "execute_result",
          "data": {
            "text/plain": [
              "            Price\n",
              "Date             \n",
              "1987-05-20  18.63\n",
              "1987-05-21  18.45\n",
              "1987-05-22  18.55\n",
              "1987-05-25  18.60\n",
              "1987-05-26  18.63"
            ],
            "text/html": [
              "\n",
              "  <div id=\"df-14181047-13c0-4547-b1ea-4b8c5efbf40f\">\n",
              "    <div class=\"colab-df-container\">\n",
              "      <div>\n",
              "<style scoped>\n",
              "    .dataframe tbody tr th:only-of-type {\n",
              "        vertical-align: middle;\n",
              "    }\n",
              "\n",
              "    .dataframe tbody tr th {\n",
              "        vertical-align: top;\n",
              "    }\n",
              "\n",
              "    .dataframe thead th {\n",
              "        text-align: right;\n",
              "    }\n",
              "</style>\n",
              "<table border=\"1\" class=\"dataframe\">\n",
              "  <thead>\n",
              "    <tr style=\"text-align: right;\">\n",
              "      <th></th>\n",
              "      <th>Price</th>\n",
              "    </tr>\n",
              "    <tr>\n",
              "      <th>Date</th>\n",
              "      <th></th>\n",
              "    </tr>\n",
              "  </thead>\n",
              "  <tbody>\n",
              "    <tr>\n",
              "      <th>1987-05-20</th>\n",
              "      <td>18.63</td>\n",
              "    </tr>\n",
              "    <tr>\n",
              "      <th>1987-05-21</th>\n",
              "      <td>18.45</td>\n",
              "    </tr>\n",
              "    <tr>\n",
              "      <th>1987-05-22</th>\n",
              "      <td>18.55</td>\n",
              "    </tr>\n",
              "    <tr>\n",
              "      <th>1987-05-25</th>\n",
              "      <td>18.60</td>\n",
              "    </tr>\n",
              "    <tr>\n",
              "      <th>1987-05-26</th>\n",
              "      <td>18.63</td>\n",
              "    </tr>\n",
              "  </tbody>\n",
              "</table>\n",
              "</div>\n",
              "      <button class=\"colab-df-convert\" onclick=\"convertToInteractive('df-14181047-13c0-4547-b1ea-4b8c5efbf40f')\"\n",
              "              title=\"Convert this dataframe to an interactive table.\"\n",
              "              style=\"display:none;\">\n",
              "        \n",
              "  <svg xmlns=\"http://www.w3.org/2000/svg\" height=\"24px\"viewBox=\"0 0 24 24\"\n",
              "       width=\"24px\">\n",
              "    <path d=\"M0 0h24v24H0V0z\" fill=\"none\"/>\n",
              "    <path d=\"M18.56 5.44l.94 2.06.94-2.06 2.06-.94-2.06-.94-.94-2.06-.94 2.06-2.06.94zm-11 1L8.5 8.5l.94-2.06 2.06-.94-2.06-.94L8.5 2.5l-.94 2.06-2.06.94zm10 10l.94 2.06.94-2.06 2.06-.94-2.06-.94-.94-2.06-.94 2.06-2.06.94z\"/><path d=\"M17.41 7.96l-1.37-1.37c-.4-.4-.92-.59-1.43-.59-.52 0-1.04.2-1.43.59L10.3 9.45l-7.72 7.72c-.78.78-.78 2.05 0 2.83L4 21.41c.39.39.9.59 1.41.59.51 0 1.02-.2 1.41-.59l7.78-7.78 2.81-2.81c.8-.78.8-2.07 0-2.86zM5.41 20L4 18.59l7.72-7.72 1.47 1.35L5.41 20z\"/>\n",
              "  </svg>\n",
              "      </button>\n",
              "      \n",
              "  <style>\n",
              "    .colab-df-container {\n",
              "      display:flex;\n",
              "      flex-wrap:wrap;\n",
              "      gap: 12px;\n",
              "    }\n",
              "\n",
              "    .colab-df-convert {\n",
              "      background-color: #E8F0FE;\n",
              "      border: none;\n",
              "      border-radius: 50%;\n",
              "      cursor: pointer;\n",
              "      display: none;\n",
              "      fill: #1967D2;\n",
              "      height: 32px;\n",
              "      padding: 0 0 0 0;\n",
              "      width: 32px;\n",
              "    }\n",
              "\n",
              "    .colab-df-convert:hover {\n",
              "      background-color: #E2EBFA;\n",
              "      box-shadow: 0px 1px 2px rgba(60, 64, 67, 0.3), 0px 1px 3px 1px rgba(60, 64, 67, 0.15);\n",
              "      fill: #174EA6;\n",
              "    }\n",
              "\n",
              "    [theme=dark] .colab-df-convert {\n",
              "      background-color: #3B4455;\n",
              "      fill: #D2E3FC;\n",
              "    }\n",
              "\n",
              "    [theme=dark] .colab-df-convert:hover {\n",
              "      background-color: #434B5C;\n",
              "      box-shadow: 0px 1px 3px 1px rgba(0, 0, 0, 0.15);\n",
              "      filter: drop-shadow(0px 1px 2px rgba(0, 0, 0, 0.3));\n",
              "      fill: #FFFFFF;\n",
              "    }\n",
              "  </style>\n",
              "\n",
              "      <script>\n",
              "        const buttonEl =\n",
              "          document.querySelector('#df-14181047-13c0-4547-b1ea-4b8c5efbf40f button.colab-df-convert');\n",
              "        buttonEl.style.display =\n",
              "          google.colab.kernel.accessAllowed ? 'block' : 'none';\n",
              "\n",
              "        async function convertToInteractive(key) {\n",
              "          const element = document.querySelector('#df-14181047-13c0-4547-b1ea-4b8c5efbf40f');\n",
              "          const dataTable =\n",
              "            await google.colab.kernel.invokeFunction('convertToInteractive',\n",
              "                                                     [key], {});\n",
              "          if (!dataTable) return;\n",
              "\n",
              "          const docLinkHtml = 'Like what you see? Visit the ' +\n",
              "            '<a target=\"_blank\" href=https://colab.research.google.com/notebooks/data_table.ipynb>data table notebook</a>'\n",
              "            + ' to learn more about interactive tables.';\n",
              "          element.innerHTML = '';\n",
              "          dataTable['output_type'] = 'display_data';\n",
              "          await google.colab.output.renderOutput(dataTable, element);\n",
              "          const docLink = document.createElement('div');\n",
              "          docLink.innerHTML = docLinkHtml;\n",
              "          element.appendChild(docLink);\n",
              "        }\n",
              "      </script>\n",
              "    </div>\n",
              "  </div>\n",
              "  "
            ]
          },
          "metadata": {},
          "execution_count": 170
        }
      ]
    },
    {
      "cell_type": "code",
      "source": [
        "training_set2 = dataset2[:'2018'].iloc[:,0].values\n",
        "test_set2 = dataset2['2018':].iloc[:,0].values"
      ],
      "metadata": {
        "id": "B1eWUE6XVTW2"
      },
      "execution_count": null,
      "outputs": []
    },
    {
      "cell_type": "code",
      "source": [
        "test_set2"
      ],
      "metadata": {
        "colab": {
          "base_uri": "https://localhost:8080/"
        },
        "outputId": "642e53c5-d1b2-4c4c-aa97-708ed7dce744",
        "id": "zKf853aoVTW3"
      },
      "execution_count": null,
      "outputs": [
        {
          "output_type": "execute_result",
          "data": {
            "text/plain": [
              "array([66.65, 67.85, 68.73, ..., 94.25, 96.37, 93.59])"
            ]
          },
          "metadata": {},
          "execution_count": 172
        }
      ]
    },
    {
      "cell_type": "code",
      "source": [
        "dataset2[\"Price\"][:'2018'].plot(figsize=(16,4),legend=True)\n",
        "dataset2[\"Price\"]['2018':].plot(figsize=(16,4),legend=True)\n",
        "plt.legend(['Training set (Before 2018)','Test set (After 2018)'])\n",
        "plt.title('Brent Oil Price en $')\n",
        "plt.show()"
      ],
      "metadata": {
        "colab": {
          "base_uri": "https://localhost:8080/",
          "height": 285
        },
        "outputId": "52bb9552-2f14-4b36-b963-537705d45590",
        "id": "5lCYJ1rJVTW3"
      },
      "execution_count": null,
      "outputs": [
        {
          "output_type": "display_data",
          "data": {
            "text/plain": [
              "<Figure size 1152x288 with 1 Axes>"
            ],
            "image/png": "[encoded data removed]"
          },
          "metadata": {
            "needs_background": "light"
          }
        }
      ]
    },
    {
      "cell_type": "code",
      "source": [
        "sc = MinMaxScaler(feature_range=(0,1))\n",
        "training_set2 = training_set2.reshape(-1,1)\n",
        "training_set_scaled2 = sc.fit_transform(training_set2)"
      ],
      "metadata": {
        "id": "yUKjzeHTVTW5"
      },
      "execution_count": null,
      "outputs": []
    },
    {
      "cell_type": "code",
      "source": [
        "X_train2 = []\n",
        "y_train2 = []\n",
        "memo = 60\n",
        "for i in range(memo,len(training_set2)):\n",
        "    X_train2.append(training_set_scaled2[i-60:i,0])\n",
        "    y_train2.append(training_set_scaled2[i,0])\n",
        "X_train2, y_train2 = np.array(X_train2), np.array(y_train2)"
      ],
      "metadata": {
        "id": "9-7aQHP5Wzoj"
      },
      "execution_count": null,
      "outputs": []
    },
    {
      "cell_type": "code",
      "source": [
        "X_train2.shape"
      ],
      "metadata": {
        "colab": {
          "base_uri": "https://localhost:8080/"
        },
        "outputId": "8207fc11-4dc2-4828-830d-f3f556b36388",
        "id": "VH4_MZlRWzok"
      },
      "execution_count": null,
      "outputs": [
        {
          "output_type": "execute_result",
          "data": {
            "text/plain": [
              "(7964, 60)"
            ]
          },
          "metadata": {},
          "execution_count": 176
        }
      ]
    },
    {
      "cell_type": "code",
      "source": [
        "X_train2 = np.reshape(X_train2, (X_train2.shape[0],X_train2.shape[1],1))"
      ],
      "metadata": {
        "id": "yDVr55ZFWzok"
      },
      "execution_count": null,
      "outputs": []
    },
    {
      "cell_type": "code",
      "source": [
        "X_train2.shape"
      ],
      "metadata": {
        "colab": {
          "base_uri": "https://localhost:8080/"
        },
        "outputId": "e0753d85-def6-4c64-c24a-24a5324ef1d0",
        "id": "Xz6NweJoWzok"
      },
      "execution_count": null,
      "outputs": [
        {
          "output_type": "execute_result",
          "data": {
            "text/plain": [
              "(7964, 60, 1)"
            ]
          },
          "metadata": {},
          "execution_count": 178
        }
      ]
    },
    {
      "cell_type": "code",
      "source": [
        "# The GRU architecture\n",
        "model2 = Sequential()\n",
        "# First GRU layer \n",
        "model2.add(GRU(units=50, return_sequences=True, input_shape=(X_train2.shape[1],1), activation='tanh'))\n",
        "model2.add(Dropout(0.2))\n",
        "# Second GRU layer\n",
        "model2.add(GRU(units=50, return_sequences=True, input_shape=(X_train2.shape[1],1), activation='tanh'))\n",
        "model2.add(Dropout(0.2))\n",
        "# Third GRU layer\n",
        "model2.add(GRU(units=50, return_sequences=True, input_shape=(X_train2.shape[1],1), activation='tanh'))\n",
        "model2.add(Dropout(0.2))\n",
        "# Fourth GRU layer\n",
        "model2.add(GRU(units=50, activation='tanh'))\n",
        "model2.add(Dropout(0.2))\n",
        "# The output layer\n",
        "model2.add(Dense(units=1))\n"
      ],
      "metadata": {
        "id": "fx5MilfTWzol"
      },
      "execution_count": null,
      "outputs": []
    },
    {
      "cell_type": "code",
      "source": [
        "model2.compile(optimizer='adam',loss='mean_squared_error')"
      ],
      "metadata": {
        "id": "drA6O9EMXZ7s"
      },
      "execution_count": null,
      "outputs": []
    },
    {
      "cell_type": "code",
      "source": [
        "model2.summary()"
      ],
      "metadata": {
        "colab": {
          "base_uri": "https://localhost:8080/"
        },
        "outputId": "472d2505-c447-4b71-e949-a951464b6416",
        "id": "8DHYKQkmXZ7s"
      },
      "execution_count": null,
      "outputs": [
        {
          "output_type": "stream",
          "name": "stdout",
          "text": [
            "Model: \"sequential_8\"\n",
            "_________________________________________________________________\n",
            " Layer (type)                Output Shape              Param #   \n",
            "=================================================================\n",
            " gru_32 (GRU)                (None, 60, 50)            7950      \n",
            "                                                                 \n",
            " dropout_32 (Dropout)        (None, 60, 50)            0         \n",
            "                                                                 \n",
            " gru_33 (GRU)                (None, 60, 50)            15300     \n",
            "                                                                 \n",
            " dropout_33 (Dropout)        (None, 60, 50)            0         \n",
            "                                                                 \n",
            " gru_34 (GRU)                (None, 60, 50)            15300     \n",
            "                                                                 \n",
            " dropout_34 (Dropout)        (None, 60, 50)            0         \n",
            "                                                                 \n",
            " gru_35 (GRU)                (None, 50)                15300     \n",
            "                                                                 \n",
            " dropout_35 (Dropout)        (None, 50)                0         \n",
            "                                                                 \n",
            " dense_8 (Dense)             (None, 1)                 51        \n",
            "                                                                 \n",
            "=================================================================\n",
            "Total params: 53,901\n",
            "Trainable params: 53,901\n",
            "Non-trainable params: 0\n",
            "_________________________________________________________________\n"
          ]
        }
      ]
    },
    {
      "cell_type": "code",
      "source": [
        "# Fitting to the training set\n",
        "history2 = model2.fit(X_train2,\n",
        "                 y_train2,\n",
        "                 epochs=100,\n",
        "                 batch_size=132,\n",
        "                validation_split=0.2)"
      ],
      "metadata": {
        "colab": {
          "base_uri": "https://localhost:8080/"
        },
        "outputId": "46867c35-18de-487a-d519-00f505bd60b3",
        "id": "FS0lJ8sYXZ7s"
      },
      "execution_count": null,
      "outputs": [
        {
          "output_type": "stream",
          "name": "stdout",
          "text": [
            "Epoch 1/100\n",
            "3/3 [==============================] - 7s 658ms/step - loss: 0.0655 - val_loss: 0.0444\n",
            "Epoch 2/100\n",
            "3/3 [==============================] - 0s 85ms/step - loss: 0.0192 - val_loss: 0.0091\n",
            "Epoch 3/100\n",
            "3/3 [==============================] - 0s 83ms/step - loss: 0.0191 - val_loss: 0.0020\n",
            "Epoch 4/100\n",
            "3/3 [==============================] - 0s 82ms/step - loss: 0.0062 - val_loss: 0.0148\n",
            "Epoch 5/100\n",
            "3/3 [==============================] - 0s 83ms/step - loss: 0.0082 - val_loss: 0.0099\n",
            "Epoch 6/100\n",
            "3/3 [==============================] - 0s 83ms/step - loss: 0.0045 - val_loss: 9.5179e-04\n",
            "Epoch 7/100\n",
            "3/3 [==============================] - 0s 82ms/step - loss: 0.0041 - val_loss: 0.0087\n",
            "Epoch 8/100\n",
            "3/3 [==============================] - 0s 82ms/step - loss: 0.0046 - val_loss: 9.3453e-04\n",
            "Epoch 9/100\n",
            "3/3 [==============================] - 0s 84ms/step - loss: 0.0023 - val_loss: 0.0022\n",
            "Epoch 10/100\n",
            "3/3 [==============================] - 0s 83ms/step - loss: 0.0031 - val_loss: 0.0024\n",
            "Epoch 11/100\n",
            "3/3 [==============================] - 0s 83ms/step - loss: 0.0024 - val_loss: 4.5360e-04\n",
            "Epoch 12/100\n",
            "3/3 [==============================] - 0s 81ms/step - loss: 0.0025 - val_loss: 8.0085e-04\n",
            "Epoch 13/100\n",
            "3/3 [==============================] - 0s 84ms/step - loss: 0.0025 - val_loss: 3.9309e-04\n",
            "Epoch 14/100\n",
            "3/3 [==============================] - 0s 82ms/step - loss: 0.0021 - val_loss: 9.4733e-04\n",
            "Epoch 15/100\n",
            "3/3 [==============================] - 0s 84ms/step - loss: 0.0021 - val_loss: 6.8947e-04\n",
            "Epoch 16/100\n",
            "3/3 [==============================] - 0s 83ms/step - loss: 0.0020 - val_loss: 3.6688e-04\n",
            "Epoch 17/100\n",
            "3/3 [==============================] - 0s 82ms/step - loss: 0.0019 - val_loss: 7.4716e-04\n",
            "Epoch 18/100\n",
            "3/3 [==============================] - 0s 84ms/step - loss: 0.0021 - val_loss: 3.3891e-04\n",
            "Epoch 19/100\n",
            "3/3 [==============================] - 0s 83ms/step - loss: 0.0019 - val_loss: 5.6246e-04\n",
            "Epoch 20/100\n",
            "3/3 [==============================] - 0s 85ms/step - loss: 0.0019 - val_loss: 5.0954e-04\n",
            "Epoch 21/100\n",
            "3/3 [==============================] - 0s 84ms/step - loss: 0.0018 - val_loss: 3.4058e-04\n",
            "Epoch 22/100\n",
            "3/3 [==============================] - 0s 83ms/step - loss: 0.0017 - val_loss: 3.4046e-04\n",
            "Epoch 23/100\n",
            "3/3 [==============================] - 0s 82ms/step - loss: 0.0017 - val_loss: 4.1372e-04\n",
            "Epoch 24/100\n",
            "3/3 [==============================] - 0s 82ms/step - loss: 0.0016 - val_loss: 4.4121e-04\n",
            "Epoch 25/100\n",
            "3/3 [==============================] - 0s 83ms/step - loss: 0.0017 - val_loss: 3.1924e-04\n",
            "Epoch 26/100\n",
            "3/3 [==============================] - 0s 83ms/step - loss: 0.0017 - val_loss: 3.6072e-04\n",
            "Epoch 27/100\n",
            "3/3 [==============================] - 0s 85ms/step - loss: 0.0016 - val_loss: 3.2457e-04\n",
            "Epoch 28/100\n",
            "3/3 [==============================] - 0s 82ms/step - loss: 0.0016 - val_loss: 4.4203e-04\n",
            "Epoch 29/100\n",
            "3/3 [==============================] - 0s 84ms/step - loss: 0.0017 - val_loss: 3.7191e-04\n",
            "Epoch 30/100\n",
            "3/3 [==============================] - 0s 82ms/step - loss: 0.0015 - val_loss: 3.4382e-04\n",
            "Epoch 31/100\n",
            "3/3 [==============================] - 0s 88ms/step - loss: 0.0015 - val_loss: 3.3503e-04\n",
            "Epoch 32/100\n",
            "3/3 [==============================] - 0s 84ms/step - loss: 0.0015 - val_loss: 3.2092e-04\n",
            "Epoch 33/100\n",
            "3/3 [==============================] - 0s 85ms/step - loss: 0.0015 - val_loss: 3.1945e-04\n",
            "Epoch 34/100\n",
            "3/3 [==============================] - 0s 82ms/step - loss: 0.0016 - val_loss: 3.1811e-04\n",
            "Epoch 35/100\n",
            "3/3 [==============================] - 0s 84ms/step - loss: 0.0016 - val_loss: 3.1872e-04\n",
            "Epoch 36/100\n",
            "3/3 [==============================] - 0s 84ms/step - loss: 0.0014 - val_loss: 3.2106e-04\n",
            "Epoch 37/100\n",
            "3/3 [==============================] - 0s 82ms/step - loss: 0.0015 - val_loss: 3.3746e-04\n",
            "Epoch 38/100\n",
            "3/3 [==============================] - 0s 83ms/step - loss: 0.0013 - val_loss: 3.4046e-04\n",
            "Epoch 39/100\n",
            "3/3 [==============================] - 0s 84ms/step - loss: 0.0015 - val_loss: 3.2321e-04\n",
            "Epoch 40/100\n",
            "3/3 [==============================] - 0s 85ms/step - loss: 0.0014 - val_loss: 3.2691e-04\n",
            "Epoch 41/100\n",
            "3/3 [==============================] - 0s 83ms/step - loss: 0.0014 - val_loss: 3.4418e-04\n",
            "Epoch 42/100\n",
            "3/3 [==============================] - 0s 84ms/step - loss: 0.0014 - val_loss: 3.3056e-04\n",
            "Epoch 43/100\n",
            "3/3 [==============================] - 0s 84ms/step - loss: 0.0014 - val_loss: 3.2577e-04\n",
            "Epoch 44/100\n",
            "3/3 [==============================] - 0s 84ms/step - loss: 0.0014 - val_loss: 3.3148e-04\n",
            "Epoch 45/100\n",
            "3/3 [==============================] - 0s 85ms/step - loss: 0.0014 - val_loss: 3.2313e-04\n",
            "Epoch 46/100\n",
            "3/3 [==============================] - 0s 84ms/step - loss: 0.0013 - val_loss: 3.3642e-04\n",
            "Epoch 47/100\n",
            "3/3 [==============================] - 0s 84ms/step - loss: 0.0014 - val_loss: 3.2432e-04\n",
            "Epoch 48/100\n",
            "3/3 [==============================] - 0s 82ms/step - loss: 0.0013 - val_loss: 3.2346e-04\n",
            "Epoch 49/100\n",
            "3/3 [==============================] - 0s 85ms/step - loss: 0.0013 - val_loss: 3.2316e-04\n",
            "Epoch 50/100\n",
            "3/3 [==============================] - 0s 86ms/step - loss: 0.0013 - val_loss: 3.2459e-04\n",
            "Epoch 51/100\n",
            "3/3 [==============================] - 0s 83ms/step - loss: 0.0013 - val_loss: 3.2395e-04\n",
            "Epoch 52/100\n",
            "3/3 [==============================] - 0s 84ms/step - loss: 0.0013 - val_loss: 3.2278e-04\n",
            "Epoch 53/100\n",
            "3/3 [==============================] - 0s 83ms/step - loss: 0.0012 - val_loss: 3.3459e-04\n",
            "Epoch 54/100\n",
            "3/3 [==============================] - 0s 85ms/step - loss: 0.0013 - val_loss: 3.4263e-04\n",
            "Epoch 55/100\n",
            "3/3 [==============================] - 0s 83ms/step - loss: 0.0014 - val_loss: 3.3403e-04\n",
            "Epoch 56/100\n",
            "3/3 [==============================] - 0s 84ms/step - loss: 0.0012 - val_loss: 3.2450e-04\n",
            "Epoch 57/100\n",
            "3/3 [==============================] - 0s 82ms/step - loss: 0.0013 - val_loss: 3.4931e-04\n",
            "Epoch 58/100\n",
            "3/3 [==============================] - 0s 83ms/step - loss: 0.0013 - val_loss: 3.2243e-04\n",
            "Epoch 59/100\n",
            "3/3 [==============================] - 0s 85ms/step - loss: 0.0013 - val_loss: 3.2073e-04\n",
            "Epoch 60/100\n",
            "3/3 [==============================] - 0s 85ms/step - loss: 0.0013 - val_loss: 3.3977e-04\n",
            "Epoch 61/100\n",
            "3/3 [==============================] - 0s 85ms/step - loss: 0.0012 - val_loss: 3.2200e-04\n",
            "Epoch 62/100\n",
            "3/3 [==============================] - 0s 82ms/step - loss: 0.0013 - val_loss: 3.2157e-04\n",
            "Epoch 63/100\n",
            "3/3 [==============================] - 0s 86ms/step - loss: 0.0012 - val_loss: 3.3994e-04\n",
            "Epoch 64/100\n",
            "3/3 [==============================] - 0s 82ms/step - loss: 0.0013 - val_loss: 3.2828e-04\n",
            "Epoch 65/100\n",
            "3/3 [==============================] - 0s 86ms/step - loss: 0.0012 - val_loss: 3.2075e-04\n",
            "Epoch 66/100\n",
            "3/3 [==============================] - 0s 84ms/step - loss: 0.0013 - val_loss: 3.3705e-04\n",
            "Epoch 67/100\n",
            "3/3 [==============================] - 0s 84ms/step - loss: 0.0012 - val_loss: 3.3414e-04\n",
            "Epoch 68/100\n",
            "3/3 [==============================] - 0s 85ms/step - loss: 0.0012 - val_loss: 3.5207e-04\n",
            "Epoch 69/100\n",
            "3/3 [==============================] - 0s 87ms/step - loss: 0.0012 - val_loss: 3.2798e-04\n",
            "Epoch 70/100\n",
            "3/3 [==============================] - 0s 84ms/step - loss: 0.0012 - val_loss: 3.3668e-04\n",
            "Epoch 71/100\n",
            "3/3 [==============================] - 0s 87ms/step - loss: 0.0012 - val_loss: 3.2645e-04\n",
            "Epoch 72/100\n",
            "3/3 [==============================] - 0s 85ms/step - loss: 0.0012 - val_loss: 3.2867e-04\n",
            "Epoch 73/100\n",
            "3/3 [==============================] - 0s 87ms/step - loss: 0.0011 - val_loss: 3.3093e-04\n",
            "Epoch 74/100\n",
            "3/3 [==============================] - 0s 83ms/step - loss: 0.0012 - val_loss: 3.3074e-04\n",
            "Epoch 75/100\n",
            "3/3 [==============================] - 0s 84ms/step - loss: 0.0012 - val_loss: 3.2240e-04\n",
            "Epoch 76/100\n",
            "3/3 [==============================] - 0s 88ms/step - loss: 0.0010 - val_loss: 3.2220e-04\n",
            "Epoch 77/100\n",
            "3/3 [==============================] - 0s 82ms/step - loss: 0.0011 - val_loss: 3.2055e-04\n",
            "Epoch 78/100\n",
            "3/3 [==============================] - 0s 84ms/step - loss: 0.0012 - val_loss: 3.2072e-04\n",
            "Epoch 79/100\n",
            "3/3 [==============================] - 0s 83ms/step - loss: 0.0012 - val_loss: 3.2182e-04\n",
            "Epoch 80/100\n",
            "3/3 [==============================] - 0s 84ms/step - loss: 0.0011 - val_loss: 3.4158e-04\n",
            "Epoch 81/100\n",
            "3/3 [==============================] - 0s 84ms/step - loss: 0.0011 - val_loss: 3.2307e-04\n",
            "Epoch 82/100\n",
            "3/3 [==============================] - 0s 84ms/step - loss: 0.0011 - val_loss: 3.1838e-04\n",
            "Epoch 83/100\n",
            "3/3 [==============================] - 0s 84ms/step - loss: 0.0011 - val_loss: 3.2692e-04\n",
            "Epoch 84/100\n",
            "3/3 [==============================] - 0s 84ms/step - loss: 0.0011 - val_loss: 3.2081e-04\n",
            "Epoch 85/100\n",
            "3/3 [==============================] - 0s 87ms/step - loss: 0.0011 - val_loss: 3.2613e-04\n",
            "Epoch 86/100\n",
            "3/3 [==============================] - 0s 84ms/step - loss: 0.0011 - val_loss: 3.2457e-04\n",
            "Epoch 87/100\n",
            "3/3 [==============================] - 0s 86ms/step - loss: 0.0011 - val_loss: 3.1801e-04\n",
            "Epoch 88/100\n",
            "3/3 [==============================] - 0s 85ms/step - loss: 0.0011 - val_loss: 3.2256e-04\n",
            "Epoch 89/100\n",
            "3/3 [==============================] - 0s 87ms/step - loss: 0.0011 - val_loss: 3.2152e-04\n",
            "Epoch 90/100\n",
            "3/3 [==============================] - 0s 84ms/step - loss: 0.0012 - val_loss: 3.4020e-04\n",
            "Epoch 91/100\n",
            "3/3 [==============================] - 0s 85ms/step - loss: 0.0011 - val_loss: 3.2843e-04\n",
            "Epoch 92/100\n",
            "3/3 [==============================] - 0s 89ms/step - loss: 0.0011 - val_loss: 3.1873e-04\n",
            "Epoch 93/100\n",
            "3/3 [==============================] - 0s 89ms/step - loss: 0.0010 - val_loss: 3.4523e-04\n",
            "Epoch 94/100\n",
            "3/3 [==============================] - 0s 85ms/step - loss: 0.0011 - val_loss: 3.3437e-04\n",
            "Epoch 95/100\n",
            "3/3 [==============================] - 0s 86ms/step - loss: 0.0011 - val_loss: 3.2039e-04\n",
            "Epoch 96/100\n",
            "3/3 [==============================] - 0s 85ms/step - loss: 0.0011 - val_loss: 3.2034e-04\n",
            "Epoch 97/100\n",
            "3/3 [==============================] - 0s 84ms/step - loss: 0.0011 - val_loss: 3.1911e-04\n",
            "Epoch 98/100\n",
            "3/3 [==============================] - 0s 87ms/step - loss: 0.0010 - val_loss: 3.1683e-04\n",
            "Epoch 99/100\n",
            "3/3 [==============================] - 0s 86ms/step - loss: 0.0011 - val_loss: 3.2511e-04\n",
            "Epoch 100/100\n",
            "3/3 [==============================] - 0s 84ms/step - loss: 0.0010 - val_loss: 3.2722e-04\n"
          ]
        }
      ]
    },
    {
      "cell_type": "code",
      "source": [
        "plt.plot(history2.history['loss'], label = 'training loss')\n",
        "plt.plot(history2.history['val_loss'], label ='validation loss')\n",
        "plt.legend()"
      ],
      "metadata": {
        "colab": {
          "base_uri": "https://localhost:8080/",
          "height": 282
        },
        "outputId": "1c49c86f-a503-454c-d0c3-57880591b2a7",
        "id": "FDPbTjwqXuJ3"
      },
      "execution_count": null,
      "outputs": [
        {
          "output_type": "execute_result",
          "data": {
            "text/plain": [
              "<matplotlib.legend.Legend at 0x7fd5bc4e2ed0>"
            ]
          },
          "metadata": {},
          "execution_count": 184
        },
        {
          "output_type": "display_data",
          "data": {
            "text/plain": [
              "<Figure size 432x288 with 1 Axes>"
            ],
            "image/png": "[encoded data removed]"
          },
          "metadata": {
            "needs_background": "light"
          }
        }
      ]
    },
    {
      "cell_type": "code",
      "source": [
        "dataset_total2 = pd.concat((dataset[\"Price\"][:'2018'],dataset[\"Price\"]['2018':]),axis=0)\n",
        "inputs2 = dataset_total2[len(dataset_total2)-len(test_set2) - memo:].values\n",
        "inputs2 = inputs2.reshape(-1,1)\n",
        "\n",
        "inputs2  = sc.transform(inputs2)"
      ],
      "metadata": {
        "id": "OVA2p0x9XuJ3"
      },
      "execution_count": null,
      "outputs": []
    },
    {
      "cell_type": "code",
      "source": [
        "inputs2"
      ],
      "metadata": {
        "colab": {
          "base_uri": "https://localhost:8080/"
        },
        "id": "BaT9hsrDYbJx",
        "outputId": "29ff7c3b-4def-4a6d-9dd3-5234fb237b28"
      },
      "execution_count": null,
      "outputs": [
        {
          "output_type": "execute_result",
          "data": {
            "text/plain": [
              "array([[0.56618465],\n",
              "       [0.57078235],\n",
              "       [0.56373749],\n",
              "       ...,\n",
              "       [0.63144234],\n",
              "       [0.64716352],\n",
              "       [0.62654802]])"
            ]
          },
          "metadata": {},
          "execution_count": 189
        }
      ]
    },
    {
      "cell_type": "code",
      "source": [
        "X_test2 = []\n",
        "for i in range(memo,len(inputs2)):\n",
        "    X_test2.append(inputs2[i-memo:i,0])\n",
        "X_test2 = np.array(X_test2)\n",
        "#X_test2 = np.reshape(X_test2, (X_test2.shape[0],X_test2.shape[1],1))\n",
        "predicted_oil_price = model2.predict(X_test2)\n",
        "predicted_oil_price = sc.inverse_transform(predicted_oil_price)"
      ],
      "metadata": {
        "colab": {
          "base_uri": "https://localhost:8080/"
        },
        "outputId": "f173c1e7-b79d-402c-b633-3309599952a3",
        "id": "f7G5m69fXuJ3"
      },
      "execution_count": null,
      "outputs": [
        {
          "output_type": "stream",
          "name": "stdout",
          "text": [
            "39/39 [==============================] - 2s 9ms/step\n"
          ]
        }
      ]
    },
    {
      "cell_type": "code",
      "source": [
        "def plot_predictions(test,predicted):\n",
        "    plt.plot(test, color='red',label='Real Brent Oil Price')\n",
        "    plt.plot(predicted, color='blue',label='Predicted Brent Oil Price')\n",
        "    plt.title('Brent Oil Price Prediction')\n",
        "    plt.xlabel('Time')\n",
        "    plt.ylabel('Brent Oil Price Price')\n",
        "    plt.legend()\n",
        "    plt.show()"
      ],
      "metadata": {
        "id": "EjAywaJ8XWC4"
      },
      "execution_count": null,
      "outputs": []
    },
    {
      "cell_type": "code",
      "source": [
        "plot_predictions(test_set2,predicted_oil_price)"
      ],
      "metadata": {
        "colab": {
          "base_uri": "https://localhost:8080/",
          "height": 295
        },
        "outputId": "cbdada45-691c-4d7d-eb58-fd26e5102fcd",
        "id": "JJX3oqt4XuJ5"
      },
      "execution_count": null,
      "outputs": [
        {
          "output_type": "display_data",
          "data": {
            "text/plain": [
              "<Figure size 432x288 with 1 Axes>"
            ],
            "image/png": "[encoded data removed]"
          },
          "metadata": {
            "needs_background": "light"
          }
        }
      ]
    }
  ]
}