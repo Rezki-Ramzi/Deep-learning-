{
  "cells": [
    {
      "cell_type": "markdown",
      "metadata": {
        "id": "view-in-github",
        "colab_type": "text"
      },
      "source": [
        "<a href=\"https://colab.research.google.com/github/Rezki-Ramzi/Deep-learning-/blob/main/Test_yolov5_for_forests_fire_detection_.ipynb\" target=\"_parent\"><img src=\"https://colab.research.google.com/assets/colab-badge.svg\" alt=\"Open In Colab\"/></a>"
      ]
    },
    {
      "cell_type": "code",
      "execution_count": null,
      "metadata": {
        "colab": {
          "base_uri": "https://localhost:8080/"
        },
        "id": "UFRRensnjRG7",
        "outputId": "96055ff1-ff52-40db-c81f-c09c7bb2d9df"
      },
      "outputs": [
        {
          "name": "stdout",
          "output_type": "stream",
          "text": [
            "Looking in indexes: https://pypi.org/simple, https://us-python.pkg.dev/colab-wheels/public/simple/\n",
            "Requirement already satisfied: gdown in /usr/local/lib/python3.8/dist-packages (4.4.0)\n",
            "Collecting gdown\n",
            "  Downloading gdown-4.6.0-py3-none-any.whl (14 kB)\n",
            "Requirement already satisfied: six in /usr/local/lib/python3.8/dist-packages (from gdown) (1.15.0)\n",
            "Requirement already satisfied: tqdm in /usr/local/lib/python3.8/dist-packages (from gdown) (4.64.1)\n",
            "Requirement already satisfied: beautifulsoup4 in /usr/local/lib/python3.8/dist-packages (from gdown) (4.6.3)\n",
            "Requirement already satisfied: requests[socks] in /usr/local/lib/python3.8/dist-packages (from gdown) (2.23.0)\n",
            "Requirement already satisfied: filelock in /usr/local/lib/python3.8/dist-packages (from gdown) (3.8.0)\n",
            "Requirement already satisfied: chardet<4,>=3.0.2 in /usr/local/lib/python3.8/dist-packages (from requests[socks]->gdown) (3.0.4)\n",
            "Requirement already satisfied: idna<3,>=2.5 in /usr/local/lib/python3.8/dist-packages (from requests[socks]->gdown) (2.10)\n",
            "Requirement already satisfied: certifi>=2017.4.17 in /usr/local/lib/python3.8/dist-packages (from requests[socks]->gdown) (2022.9.24)\n",
            "Requirement already satisfied: urllib3!=1.25.0,!=1.25.1,<1.26,>=1.21.1 in /usr/local/lib/python3.8/dist-packages (from requests[socks]->gdown) (1.24.3)\n",
            "Requirement already satisfied: PySocks!=1.5.7,>=1.5.6 in /usr/local/lib/python3.8/dist-packages (from requests[socks]->gdown) (1.7.1)\n",
            "Installing collected packages: gdown\n",
            "  Attempting uninstall: gdown\n",
            "    Found existing installation: gdown 4.4.0\n",
            "    Uninstalling gdown-4.4.0:\n",
            "      Successfully uninstalled gdown-4.4.0\n",
            "Successfully installed gdown-4.6.0\n",
            "Downloading...\n",
            "From: https://drive.google.com/uc?id=1h-fwjkpQ1nEMRETeO_pFyDDLbj7q4V44\n",
            "To: /content/New.zip\n",
            "100% 386M/386M [00:08<00:00, 43.1MB/s]\n"
          ]
        }
      ],
      "source": [
        "!pip install --upgrade gdown\n",
        "!gdown 1h-fwjkpQ1nEMRETeO_pFyDDLbj7q4V44"
      ]
    },
    {
      "cell_type": "code",
      "execution_count": null,
      "metadata": {
        "id": "c4rjiHy2jd4o"
      },
      "outputs": [],
      "source": [
        "#!unzip New.zip -d ./"
      ]
    },
    {
      "cell_type": "code",
      "execution_count": null,
      "metadata": {
        "id": "ynmtSmhOjjuQ"
      },
      "outputs": [],
      "source": [
        "# CONVERT PNG FILES TO JPG\n",
        "from PIL import Image\n",
        "import os\n",
        "path = \"New/\"\n",
        "for im in [f for f in os.listdir(path) if f.endswith(\"png\")]:\n",
        "  img_png = Image.open(path+im)\n",
        "  rgb_im = img_png.convert('RGB')\n",
        "  n = im.split(\".\")[0]\n",
        "  rgb_im.save(path+n+\".jpg\")\n",
        "  os.remove(path+im)"
      ]
    },
    {
      "cell_type": "code",
      "execution_count": null,
      "metadata": {
        "id": "_-TxSGi4joP9"
      },
      "outputs": [],
      "source": [
        "# Create folders\n",
        "import os\n",
        "os.mkdir(\"data\")\n",
        "os.mkdir(\"data/images\")\n",
        "os.mkdir(\"data/labels\")\n",
        "os.mkdir(\"data/images/train\")\n",
        "os.mkdir(\"data/images/val\")\n",
        "os.mkdir(\"data/images/test\")\n",
        "os.mkdir(\"data/labels/train\")\n",
        "os.mkdir(\"data/labels/val\")\n",
        "os.mkdir(\"data/labels/test\")"
      ]
    },
    {
      "cell_type": "code",
      "execution_count": null,
      "metadata": {
        "id": "lDyiv2XZjrec"
      },
      "outputs": [],
      "source": [
        "# diviser le dataset en 3 parties : \n",
        "# 70% : entrainement\n",
        "# 20% : validation\n",
        "# 10% : test\n",
        "\n",
        "import os\n",
        "import random\n",
        "path = \"New/\"\n",
        "train_img = \"data/images/train/\"\n",
        "val_img = \"data/images/val/\"\n",
        "test_img = \"data/images/test/\"\n",
        "\n",
        "train_lab = \"data/labels/train/\"\n",
        "val_lab = \"data/labels/val/\"\n",
        "test_lab = \"data/labels/test/\"\n",
        "\n",
        "\n",
        "all_imgs = [l.split(\".\")[0] for l in os.listdir(path) if l.endswith(\".jpg\") or l.endswith(\".png\")]\n",
        "random.shuffle(all_imgs) # mélanger aléatoirement\n",
        "# print(all_imgs)\n",
        "train = all_imgs[:8580]\n",
        "val = all_imgs[8580:11032]\n",
        "test = all_imgs[11032:]\n",
        "\n",
        "\n",
        "for fi in os.listdir(path):\n",
        "    if fi.split(\".\")[0] in train:\n",
        "      if fi.split(\".\")[-1] in [\"png\",\"jpg\"]:\n",
        "        os.rename(path+fi, train_img+fi)\n",
        "      else:\n",
        "        os.rename(path+fi, train_lab+fi)\n",
        "      \n",
        "    elif fi.split(\".\")[0] in val:\n",
        "        if fi.split(\".\")[-1] in [\"png\",\"jpg\"]:\n",
        "          os.rename(path+fi, val_img+fi)\n",
        "        else:\n",
        "          os.rename(path+fi, val_lab+fi)\n",
        "    else:\n",
        "        if fi.split(\".\")[-1] in [\"png\",\"jpg\"]:\n",
        "          os.rename(path+fi, test_img+fi)\n",
        "        else:\n",
        "          os.rename(path+fi, test_lab+fi)\n",
        "\n"
      ]
    },
    {
      "cell_type": "code",
      "execution_count": null,
      "metadata": {
        "colab": {
          "base_uri": "https://localhost:8080/"
        },
        "id": "tiKN_a5Yjsg5",
        "outputId": "c653cf75-3574-404d-a9f8-75922265b345"
      },
      "outputs": [
        {
          "name": "stdout",
          "output_type": "stream",
          "text": [
            "Cloning into 'yolov5'...\n",
            "remote: Enumerating objects: 14474, done.\u001b[K\n",
            "remote: Counting objects: 100% (103/103), done.\u001b[K\n",
            "remote: Compressing objects: 100% (61/61), done.\u001b[K\n",
            "remote: Total 14474 (delta 65), reused 69 (delta 41), pack-reused 14371\u001b[K\n",
            "Receiving objects: 100% (14474/14474), 13.66 MiB | 18.55 MiB/s, done.\n",
            "Resolving deltas: 100% (9966/9966), done.\n",
            "Setup complete. Using torch 1.13.0+cu116 (Tesla T4)\n"
          ]
        }
      ],
      "source": [
        "!git clone https://github.com/ultralytics/yolov5  \n",
        "import torch\n",
        "import os\n",
        "from IPython.display import Image, clear_output  # to display images\n",
        "print(f\"Setup complete. Using torch {torch.__version__} ({torch.cuda.get_device_properties(0).name if torch.cuda.is_available() else 'CPU'})\")"
      ]
    },
    {
      "cell_type": "code",
      "execution_count": null,
      "metadata": {
        "colab": {
          "base_uri": "https://localhost:8080/"
        },
        "id": "gWwOxbRGjvvW",
        "outputId": "f7cf27e6-a328-45d8-9ccb-e30453697333"
      },
      "outputs": [
        {
          "name": "stdout",
          "output_type": "stream",
          "text": [
            "Downloading...\n",
            "From: https://drive.google.com/uc?id=1-0llIsiv6TO5Dy-NQjdW9vH6FLY4eDD2\n",
            "To: /content/last15.pt\n",
            "100% 14.5M/14.5M [00:00<00:00, 23.3MB/s]\n"
          ]
        }
      ],
      "source": [
        "!gdown 1-0llIsiv6TO5Dy-NQjdW9vH6FLY4eDD2"
      ]
    },
    {
      "cell_type": "code",
      "execution_count": null,
      "metadata": {
        "colab": {
          "base_uri": "https://localhost:8080/"
        },
        "id": "HiMGyQwKj_Ll",
        "outputId": "eb0e3d1f-7291-4c94-ccf1-831a2e805026"
      },
      "outputs": [
        {
          "name": "stdout",
          "output_type": "stream",
          "text": [
            "\u001b[34m\u001b[1mval: \u001b[0mdata=custom.yaml, weights=['last15.pt'], batch_size=100, imgsz=640, conf_thres=0.001, iou_thres=0.6, max_det=300, task=val, device=, workers=8, single_cls=False, augment=False, verbose=False, save_txt=False, save_hybrid=False, save_conf=False, save_json=False, project=yolov5/runs/val, name=exp, exist_ok=False, half=False, dnn=False\n",
            "YOLOv5 🚀 v7.0-32-g357cde9 Python-3.8.16 torch-1.13.0+cu116 CUDA:0 (Tesla T4, 15110MiB)\n",
            "\n",
            "Fusing layers... \n",
            "Model summary: 213 layers, 7018216 parameters, 0 gradients\n",
            "\u001b[34m\u001b[1mval: \u001b[0mScanning /content/data/labels/val... 2452 images, 10 backgrounds, 0 corrupt: 100% 2452/2452 [00:01<00:00, 2197.06it/s]\n",
            "\u001b[34m\u001b[1mval: \u001b[0mNew cache created: /content/data/labels/val.cache\n",
            "                 Class     Images  Instances          P          R      mAP50   mAP50-95: 100% 25/25 [00:34<00:00,  1.39s/it]\n",
            "                   all       2452      11072      0.808      0.833      0.884      0.485\n",
            "                  fire       2452       5983      0.818      0.854      0.898      0.496\n",
            "               no_fire       2452       2110      0.836      0.892      0.933      0.495\n",
            "                 somke       2452       2979       0.77      0.754      0.821      0.464\n",
            "Speed: 0.5ms pre-process, 6.2ms inference, 1.4ms NMS per image at shape (100, 3, 640, 640)\n",
            "Results saved to \u001b[1myolov5/runs/val/exp2\u001b[0m\n"
          ]
        }
      ],
      "source": [
        "!python yolov5/val.py --data custom.yaml  --batch 100  --weights last15.pt"
      ]
    },
    {
      "cell_type": "code",
      "execution_count": null,
      "metadata": {
        "id": "5W-y5z20UUcq"
      },
      "outputs": [],
      "source": [
        "\"\"\"\n",
        "https://www.youtube.com/watch?v=5Wc5Sizzb0o\n",
        "https://www.youtube.com/watch?v=HhDnv86KZk4\n",
        "https://www.youtube.com/watch?v=T_Oc-o9Pxck\n",
        "https://www.youtube.com/watch?v=pgz__MG4OSI\n",
        "https://www.youtube.com/watch?v=PXN_RxKHr1o\n",
        "\"\"\""
      ]
    },
    {
      "cell_type": "code",
      "execution_count": null,
      "metadata": {
        "id": "IY8Q_yaSPyZw"
      },
      "outputs": [],
      "source": [
        "!python yolov5/detect.py --data custom.yaml --weights last13.pt --source \"https://www.youtube.com/watch?v=5Wc5Sizzb0o\""
      ]
    },
    {
      "cell_type": "code",
      "execution_count": null,
      "metadata": {
        "id": "fd4DUKdAQbov"
      },
      "outputs": [],
      "source": [
        "!python yolov5/detect.py --data custom.yaml --weights last13.pt --source \"https://www.youtube.com/watch?v=HhDnv86KZk4\""
      ]
    },
    {
      "cell_type": "code",
      "execution_count": null,
      "metadata": {
        "id": "Ol4BY0ZMRf7U"
      },
      "outputs": [],
      "source": [
        "!python yolov5/detect.py --data custom.yaml --weights last13.pt --source \"https://www.youtube.com/watch?v=T_Oc-o9Pxck\""
      ]
    },
    {
      "cell_type": "code",
      "execution_count": null,
      "metadata": {
        "id": "pXaCWRPgUkWn"
      },
      "outputs": [],
      "source": [
        "!python yolov5/detect.py --data custom.yaml --weights last13.pt --source \"https://www.youtube.com/watch?v=pgz__MG4OSI\""
      ]
    }
  ],
  "metadata": {
    "accelerator": "GPU",
    "colab": {
      "provenance": [],
      "include_colab_link": true
    },
    "gpuClass": "standard",
    "kernelspec": {
      "display_name": "Python 3",
      "name": "python3"
    },
    "language_info": {
      "name": "python"
    }
  },
  "nbformat": 4,
  "nbformat_minor": 0
}