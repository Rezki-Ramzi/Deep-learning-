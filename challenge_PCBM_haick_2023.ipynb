{
  "cells": [
    {
      "cell_type": "markdown",
      "metadata": {
        "id": "view-in-github",
        "colab_type": "text"
      },
      "source": [
        "<a href=\"https://colab.research.google.com/github/Rezki-Ramzi/Deep-learning-/blob/main/challenge_PCBM_haick_2023.ipynb\" target=\"_parent\"><img src=\"https://colab.research.google.com/assets/colab-badge.svg\" alt=\"Open In Colab\"/></a>"
      ]
    },
    {
      "cell_type": "code",
      "execution_count": null,
      "metadata": {
        "colab": {
          "base_uri": "https://localhost:8080/"
        },
        "id": "Ibsj6JvfyuE8",
        "outputId": "3fed6ff1-a036-4b18-ec6b-cda395bf648c"
      },
      "outputs": [
        {
          "name": "stdout",
          "output_type": "stream",
          "text": [
            "Looking in indexes: https://pypi.org/simple, https://us-python.pkg.dev/colab-wheels/public/simple/\n",
            "Collecting opendatasets\n",
            "  Downloading opendatasets-0.1.22-py3-none-any.whl (15 kB)\n",
            "Requirement already satisfied: tqdm in /usr/local/lib/python3.8/dist-packages (from opendatasets) (4.64.1)\n",
            "Requirement already satisfied: kaggle in /usr/local/lib/python3.8/dist-packages (from opendatasets) (1.5.12)\n",
            "Requirement already satisfied: click in /usr/local/lib/python3.8/dist-packages (from opendatasets) (7.1.2)\n",
            "Requirement already satisfied: python-slugify in /usr/local/lib/python3.8/dist-packages (from kaggle->opendatasets) (8.0.0)\n",
            "Requirement already satisfied: six>=1.10 in /usr/local/lib/python3.8/dist-packages (from kaggle->opendatasets) (1.15.0)\n",
            "Requirement already satisfied: urllib3 in /usr/local/lib/python3.8/dist-packages (from kaggle->opendatasets) (1.24.3)\n",
            "Requirement already satisfied: requests in /usr/local/lib/python3.8/dist-packages (from kaggle->opendatasets) (2.25.1)\n",
            "Requirement already satisfied: certifi in /usr/local/lib/python3.8/dist-packages (from kaggle->opendatasets) (2022.12.7)\n",
            "Requirement already satisfied: python-dateutil in /usr/local/lib/python3.8/dist-packages (from kaggle->opendatasets) (2.8.2)\n",
            "Requirement already satisfied: text-unidecode>=1.3 in /usr/local/lib/python3.8/dist-packages (from python-slugify->kaggle->opendatasets) (1.3)\n",
            "Requirement already satisfied: chardet<5,>=3.0.2 in /usr/local/lib/python3.8/dist-packages (from requests->kaggle->opendatasets) (4.0.0)\n",
            "Requirement already satisfied: idna<3,>=2.5 in /usr/local/lib/python3.8/dist-packages (from requests->kaggle->opendatasets) (2.10)\n",
            "Installing collected packages: opendatasets\n",
            "Successfully installed opendatasets-0.1.22\n"
          ]
        }
      ],
      "source": [
        "!pip install opendatasets"
      ]
    },
    {
      "cell_type": "code",
      "execution_count": null,
      "metadata": {
        "colab": {
          "base_uri": "https://localhost:8080/"
        },
        "id": "Y5AHwkWIBYuM",
        "outputId": "e930b139-a9f6-43a6-acef-076b5c960a76"
      },
      "outputs": [
        {
          "output_type": "stream",
          "name": "stdout",
          "text": [
            "Looking in indexes: https://pypi.org/simple, https://us-python.pkg.dev/colab-wheels/public/simple/\n",
            "Collecting feature_engine\n",
            "  Downloading feature_engine-1.5.2-py2.py3-none-any.whl (290 kB)\n",
            "\u001b[2K     \u001b[90m━━━━━━━━━━━━━━━━━━━━━━━━━━━━━━━━━━━━━━━\u001b[0m \u001b[32m290.0/290.0 KB\u001b[0m \u001b[31m4.1 MB/s\u001b[0m eta \u001b[36m0:00:00\u001b[0m\n",
            "\u001b[?25hRequirement already satisfied: pandas>=1.0.3 in /usr/local/lib/python3.8/dist-packages (from feature_engine) (1.3.5)\n",
            "Requirement already satisfied: scipy>=1.4.1 in /usr/local/lib/python3.8/dist-packages (from feature_engine) (1.7.3)\n",
            "Requirement already satisfied: statsmodels>=0.11.1 in /usr/local/lib/python3.8/dist-packages (from feature_engine) (0.12.2)\n",
            "Requirement already satisfied: scikit-learn>=1.0.0 in /usr/local/lib/python3.8/dist-packages (from feature_engine) (1.0.2)\n",
            "Requirement already satisfied: numpy>=1.18.2 in /usr/local/lib/python3.8/dist-packages (from feature_engine) (1.22.4)\n",
            "Requirement already satisfied: python-dateutil>=2.7.3 in /usr/local/lib/python3.8/dist-packages (from pandas>=1.0.3->feature_engine) (2.8.2)\n",
            "Requirement already satisfied: pytz>=2017.3 in /usr/local/lib/python3.8/dist-packages (from pandas>=1.0.3->feature_engine) (2022.7.1)\n",
            "Requirement already satisfied: joblib>=0.11 in /usr/local/lib/python3.8/dist-packages (from scikit-learn>=1.0.0->feature_engine) (1.2.0)\n",
            "Requirement already satisfied: threadpoolctl>=2.0.0 in /usr/local/lib/python3.8/dist-packages (from scikit-learn>=1.0.0->feature_engine) (3.1.0)\n",
            "Requirement already satisfied: patsy>=0.5 in /usr/local/lib/python3.8/dist-packages (from statsmodels>=0.11.1->feature_engine) (0.5.3)\n",
            "Requirement already satisfied: six in /usr/local/lib/python3.8/dist-packages (from patsy>=0.5->statsmodels>=0.11.1->feature_engine) (1.15.0)\n",
            "Installing collected packages: feature_engine\n",
            "Successfully installed feature_engine-1.5.2\n",
            "Looking in indexes: https://pypi.org/simple, https://us-python.pkg.dev/colab-wheels/public/simple/\n",
            "Collecting catboost\n",
            "  Downloading catboost-1.1.1-cp38-none-manylinux1_x86_64.whl (76.6 MB)\n",
            "\u001b[2K     \u001b[90m━━━━━━━━━━━━━━━━━━━━━━━━━━━━━━━━━━━━━━━━\u001b[0m \u001b[32m76.6/76.6 MB\u001b[0m \u001b[31m9.9 MB/s\u001b[0m eta \u001b[36m0:00:00\u001b[0m\n",
            "\u001b[?25hRequirement already satisfied: matplotlib in /usr/local/lib/python3.8/dist-packages (from catboost) (3.5.3)\n",
            "Requirement already satisfied: scipy in /usr/local/lib/python3.8/dist-packages (from catboost) (1.7.3)\n",
            "Requirement already satisfied: pandas>=0.24.0 in /usr/local/lib/python3.8/dist-packages (from catboost) (1.3.5)\n",
            "Requirement already satisfied: plotly in /usr/local/lib/python3.8/dist-packages (from catboost) (5.5.0)\n",
            "Requirement already satisfied: graphviz in /usr/local/lib/python3.8/dist-packages (from catboost) (0.10.1)\n",
            "Requirement already satisfied: six in /usr/local/lib/python3.8/dist-packages (from catboost) (1.15.0)\n",
            "Requirement already satisfied: numpy>=1.16.0 in /usr/local/lib/python3.8/dist-packages (from catboost) (1.22.4)\n",
            "Requirement already satisfied: python-dateutil>=2.7.3 in /usr/local/lib/python3.8/dist-packages (from pandas>=0.24.0->catboost) (2.8.2)\n",
            "Requirement already satisfied: pytz>=2017.3 in /usr/local/lib/python3.8/dist-packages (from pandas>=0.24.0->catboost) (2022.7.1)\n",
            "Requirement already satisfied: cycler>=0.10 in /usr/local/lib/python3.8/dist-packages (from matplotlib->catboost) (0.11.0)\n",
            "Requirement already satisfied: packaging>=20.0 in /usr/local/lib/python3.8/dist-packages (from matplotlib->catboost) (23.0)\n",
            "Requirement already satisfied: fonttools>=4.22.0 in /usr/local/lib/python3.8/dist-packages (from matplotlib->catboost) (4.38.0)\n",
            "Requirement already satisfied: pillow>=6.2.0 in /usr/local/lib/python3.8/dist-packages (from matplotlib->catboost) (7.1.2)\n",
            "Requirement already satisfied: kiwisolver>=1.0.1 in /usr/local/lib/python3.8/dist-packages (from matplotlib->catboost) (1.4.4)\n",
            "Requirement already satisfied: pyparsing>=2.2.1 in /usr/local/lib/python3.8/dist-packages (from matplotlib->catboost) (3.0.9)\n",
            "Requirement already satisfied: tenacity>=6.2.0 in /usr/local/lib/python3.8/dist-packages (from plotly->catboost) (8.2.1)\n",
            "Installing collected packages: catboost\n",
            "Successfully installed catboost-1.1.1\n",
            "Looking in indexes: https://pypi.org/simple, https://us-python.pkg.dev/colab-wheels/public/simple/\n",
            "Collecting mrmr_selection\n",
            "  Downloading mrmr_selection-0.2.6-py3-none-any.whl (24 kB)\n",
            "Requirement already satisfied: scipy in /usr/local/lib/python3.8/dist-packages (from mrmr_selection) (1.7.3)\n",
            "Requirement already satisfied: jinja2 in /usr/local/lib/python3.8/dist-packages (from mrmr_selection) (2.11.3)\n",
            "Requirement already satisfied: scikit-learn in /usr/local/lib/python3.8/dist-packages (from mrmr_selection) (1.0.2)\n",
            "Collecting category-encoders\n",
            "  Downloading category_encoders-2.6.0-py2.py3-none-any.whl (81 kB)\n",
            "\u001b[2K     \u001b[90m━━━━━━━━━━━━━━━━━━━━━━━━━━━━━━━━━━━━━━━━\u001b[0m \u001b[32m81.2/81.2 KB\u001b[0m \u001b[31m10.5 MB/s\u001b[0m eta \u001b[36m0:00:00\u001b[0m\n",
            "\u001b[?25hRequirement already satisfied: joblib in /usr/local/lib/python3.8/dist-packages (from mrmr_selection) (1.2.0)\n",
            "Requirement already satisfied: tqdm in /usr/local/lib/python3.8/dist-packages (from mrmr_selection) (4.64.1)\n",
            "Requirement already satisfied: pandas>=1.0.3 in /usr/local/lib/python3.8/dist-packages (from mrmr_selection) (1.3.5)\n",
            "Requirement already satisfied: numpy>=1.18.1 in /usr/local/lib/python3.8/dist-packages (from mrmr_selection) (1.22.4)\n",
            "Requirement already satisfied: python-dateutil>=2.7.3 in /usr/local/lib/python3.8/dist-packages (from pandas>=1.0.3->mrmr_selection) (2.8.2)\n",
            "Requirement already satisfied: pytz>=2017.3 in /usr/local/lib/python3.8/dist-packages (from pandas>=1.0.3->mrmr_selection) (2022.7.1)\n",
            "Requirement already satisfied: statsmodels>=0.9.0 in /usr/local/lib/python3.8/dist-packages (from category-encoders->mrmr_selection) (0.12.2)\n",
            "Requirement already satisfied: patsy>=0.5.1 in /usr/local/lib/python3.8/dist-packages (from category-encoders->mrmr_selection) (0.5.3)\n",
            "Requirement already satisfied: threadpoolctl>=2.0.0 in /usr/local/lib/python3.8/dist-packages (from scikit-learn->mrmr_selection) (3.1.0)\n",
            "Requirement already satisfied: MarkupSafe>=0.23 in /usr/local/lib/python3.8/dist-packages (from jinja2->mrmr_selection) (2.0.1)\n",
            "Requirement already satisfied: six in /usr/local/lib/python3.8/dist-packages (from patsy>=0.5.1->category-encoders->mrmr_selection) (1.15.0)\n",
            "Installing collected packages: category-encoders, mrmr_selection\n",
            "Successfully installed category-encoders-2.6.0 mrmr_selection-0.2.6\n"
          ]
        }
      ],
      "source": [
        "!pip install feature_engine\n",
        "!pip install catboost\n",
        "!pip install mrmr_selection"
      ]
    },
    {
      "cell_type": "code",
      "execution_count": null,
      "metadata": {
        "colab": {
          "base_uri": "https://localhost:8080/"
        },
        "id": "KIxDffaM0dSh",
        "outputId": "3dd30249-47f5-4c97-c33d-9cae56b47f3e"
      },
      "outputs": [
        {
          "name": "stdout",
          "output_type": "stream",
          "text": [
            "Looking in indexes: https://pypi.org/simple, https://us-python.pkg.dev/colab-wheels/public/simple/\n",
            "Requirement already satisfied: pandas in /usr/local/lib/python3.8/dist-packages (1.3.5)\n",
            "Requirement already satisfied: numpy>=1.17.3 in /usr/local/lib/python3.8/dist-packages (from pandas) (1.22.4)\n",
            "Requirement already satisfied: pytz>=2017.3 in /usr/local/lib/python3.8/dist-packages (from pandas) (2022.7.1)\n",
            "Requirement already satisfied: python-dateutil>=2.7.3 in /usr/local/lib/python3.8/dist-packages (from pandas) (2.8.2)\n",
            "Requirement already satisfied: six>=1.5 in /usr/local/lib/python3.8/dist-packages (from python-dateutil>=2.7.3->pandas) (1.15.0)\n"
          ]
        }
      ],
      "source": [
        "!pip install pandas"
      ]
    },
    {
      "cell_type": "code",
      "execution_count": null,
      "metadata": {
        "colab": {
          "base_uri": "https://localhost:8080/"
        },
        "id": "ZEssPg6N0iXO",
        "outputId": "af20d597-e440-4db5-b3f4-d563e3a62240"
      },
      "outputs": [
        {
          "output_type": "execute_result",
          "data": {
            "text/plain": [
              "['Looking in indexes: https://pypi.org/simple, https://us-python.pkg.dev/colab-wheels/public/simple/',\n",
              " 'Requirement already satisfied: gdown in /usr/local/lib/python3.8/dist-packages (4.4.0)',\n",
              " 'Collecting gdown',\n",
              " '  Downloading gdown-4.6.4-py3-none-any.whl (14 kB)',\n",
              " 'Requirement already satisfied: tqdm in /usr/local/lib/python3.8/dist-packages (from gdown) (4.64.1)',\n",
              " 'Requirement already satisfied: requests[socks] in /usr/local/lib/python3.8/dist-packages (from gdown) (2.25.1)',\n",
              " 'Requirement already satisfied: filelock in /usr/local/lib/python3.8/dist-packages (from gdown) (3.9.0)',\n",
              " 'Requirement already satisfied: beautifulsoup4 in /usr/local/lib/python3.8/dist-packages (from gdown) (4.6.3)',\n",
              " 'Requirement already satisfied: six in /usr/local/lib/python3.8/dist-packages (from gdown) (1.15.0)',\n",
              " 'Requirement already satisfied: chardet<5,>=3.0.2 in /usr/local/lib/python3.8/dist-packages (from requests[socks]->gdown) (4.0.0)',\n",
              " 'Requirement already satisfied: idna<3,>=2.5 in /usr/local/lib/python3.8/dist-packages (from requests[socks]->gdown) (2.10)',\n",
              " 'Requirement already satisfied: urllib3<1.27,>=1.21.1 in /usr/local/lib/python3.8/dist-packages (from requests[socks]->gdown) (1.24.3)',\n",
              " 'Requirement already satisfied: certifi>=2017.4.17 in /usr/local/lib/python3.8/dist-packages (from requests[socks]->gdown) (2022.12.7)',\n",
              " 'Requirement already satisfied: PySocks!=1.5.7,>=1.5.6 in /usr/local/lib/python3.8/dist-packages (from requests[socks]->gdown) (1.7.1)',\n",
              " 'Installing collected packages: gdown',\n",
              " '  Attempting uninstall: gdown',\n",
              " '    Found existing installation: gdown 4.4.0',\n",
              " '    Uninstalling gdown-4.4.0:',\n",
              " '      Successfully uninstalled gdown-4.4.0',\n",
              " 'Successfully installed gdown-4.6.4']"
            ]
          },
          "metadata": {},
          "execution_count": 2
        }
      ],
      "source": [
        "!!pip install --upgrade gdown"
      ]
    },
    {
      "cell_type": "code",
      "execution_count": null,
      "metadata": {
        "colab": {
          "base_uri": "https://localhost:8080/"
        },
        "id": "7DZPwet-3fi0",
        "outputId": "2aacbc78-3663-47bd-ac86-bfec90ad4309"
      },
      "outputs": [
        {
          "output_type": "stream",
          "name": "stdout",
          "text": [
            "Downloading...\n",
            "From: https://drive.google.com/uc?id=1wKXsIRgyDLTSWS8dPU7I2j-lU0Da9hPn\n",
            "To: /content/pcbm-challenge.zip\n",
            "100% 53.7M/53.7M [00:01<00:00, 35.4MB/s]\n"
          ]
        }
      ],
      "source": [
        "!gdown 1wKXsIRgyDLTSWS8dPU7I2j-lU0Da9hPn"
      ]
    },
    {
      "cell_type": "code",
      "execution_count": null,
      "metadata": {
        "colab": {
          "base_uri": "https://localhost:8080/"
        },
        "id": "HJcz0W7u4CnK",
        "outputId": "29361626-b330-4142-8d97-4a9ff1a02e21"
      },
      "outputs": [
        {
          "output_type": "stream",
          "name": "stdout",
          "text": [
            "Archive:  /content/pcbm-challenge.zip\n",
            "  inflating: ERBB1.csv               \n",
            "  inflating: ERBB2.csv               \n",
            "  inflating: FLT-3.csv               \n",
            "  inflating: HDACL1.csv              \n",
            "  inflating: LCK.csv                 \n",
            "  inflating: sample3.csv             \n",
            "  inflating: test_ERBB1_Target_Descriptors.csv  \n",
            "  inflating: test_ERBB2_Target_Descriptors.csv  \n",
            "  inflating: test_FLT-3_Target_Descriptors.csv  \n",
            "  inflating: test_HDACL1_Target_Descriptors.csv  \n",
            "  inflating: test_LCK_Target_Descriptors.csv  \n"
          ]
        }
      ],
      "source": [
        "!unzip /content/pcbm-challenge.zip"
      ]
    },
    {
      "cell_type": "markdown",
      "metadata": {
        "id": "iaX8ntsqy4uh"
      },
      "source": [
        "## data exploration :"
      ]
    },
    {
      "cell_type": "code",
      "execution_count": null,
      "metadata": {
        "id": "sqezWx0hy4_g"
      },
      "outputs": [],
      "source": [
        "import pandas as pd\n",
        "\n",
        "# dataset_1 = pd.read_csv('/content/ERBB1.csv')\n",
        "# dataset_2 = pd.read_csv('/content/ERBB2.csv')\n",
        "# dataset_3 = pd.read_csv('/content/FLT-3.csv')\n",
        "# dataset_4 = pd.read_csv('/content/HDACL1.csv')\n",
        "# dataset_5 = pd.read_csv('/content/LCK.csv')\n",
        "\n",
        "\n",
        "\n",
        "data_1 = pd.read_csv(\"ERBB1.csv\")\n",
        "data_1_test=pd.read_csv(\"test_ERBB1_Target_Descriptors.csv\")\n",
        "data_2 = pd.read_csv(\"ERBB2.csv\")\n",
        "data_2_test=pd.read_csv(\"test_ERBB2_Target_Descriptors.csv\")\n",
        "data_3 = pd.read_csv(\"FLT-3.csv\")\n",
        "data_3_test= pd.read_csv(\"test_FLT-3_Target_Descriptors.csv\")\n",
        "data_4 = pd.read_csv(\"HDACL1.csv\")\n",
        "data_4_test=pd.read_csv(\"test_HDACL1_Target_Descriptors.csv\")\n",
        "data_5 = pd.read_csv(\"LCK.csv\")\n",
        "data_5_test=pd.read_csv(\"test_LCK_Target_Descriptors.csv\")\n"
      ]
    },
    {
      "cell_type": "code",
      "execution_count": null,
      "metadata": {
        "id": "Dl8URlo2EGBw"
      },
      "outputs": [],
      "source": [
        "import numpy as np\n",
        "data_1.fillna(0,inplace=True)\n",
        "data_1_test.fillna(0,inplace=True)\n",
        "data_2.fillna(0,inplace=True)\n",
        "data_2_test.fillna(0,inplace=True)\n",
        "data_3.fillna(0,inplace=True)\n",
        "data_3_test.fillna(0,inplace=True)\n",
        "data_4.fillna(0,inplace=True)\n",
        "data_4_test.fillna(0,inplace=True)\n",
        "data_5.fillna(0,inplace=True)\n",
        "data_5_test.fillna(0,inplace=True)"
      ]
    },
    {
      "cell_type": "code",
      "execution_count": null,
      "metadata": {
        "id": "Yx3c7lu3VAbt"
      },
      "outputs": [],
      "source": [
        "X_train1 = data_1.drop(columns = [\"Activity\",'CHEMBL_ID'])\n",
        "X_test1 = data_1_test.drop(columns = ['CHEMBL_ID',\"Unnamed: 0\",])\n",
        "y_train1 = data_1[\"Activity\"]\n",
        "y_train1=np.where(y_train1=='active',1,0)\n",
        "\n",
        "X_train2 = data_2.drop(columns = [\"Activity\",'CHEMBL_ID'])\n",
        "X_test2 = data_2_test.drop(columns = ['CHEMBL_ID',\"Unnamed: 0\",])\n",
        "y_train2 = data_2[\"Activity\"]\n",
        "y_train2=np.where(y_train2=='active',1,0)\n",
        "\n",
        "X_train3 = data_3.drop(columns = [\"Activity\",'CHEMBL_ID'])\n",
        "X_test3 = data_3_test.drop(columns = ['CHEMBL_ID',\"Unnamed: 0\",])\n",
        "y_train3 = data_3[\"Activity\"]\n",
        "y_train3=np.where(y_train3=='active',1,0)\n",
        "\n",
        "X_train4 = data_4.drop(columns = [\"Activity\",'CHEMBL_ID'])\n",
        "X_test4 = data_4_test.drop(columns = ['CHEMBL_ID',\"Unnamed: 0\",])\n",
        "y_train4 = data_4[\"Activity\"]\n",
        "y_train4=np.where(y_train4=='active',1,0)\n",
        "\n",
        "X_train5 = data_5.drop(columns = [\"Activity\",'CHEMBL_ID'])\n",
        "X_test5 = data_5_test.drop(columns = ['CHEMBL_ID',\"Unnamed: 0\",])\n",
        "y_train5 = data_5[\"Activity\"]\n",
        "y_train5=np.where(y_train5=='active',1,0)"
      ]
    },
    {
      "cell_type": "code",
      "execution_count": null,
      "metadata": {
        "colab": {
          "base_uri": "https://localhost:8080/"
        },
        "id": "CvYs16r7ZbY_",
        "outputId": "4fc6837e-cea3-47a7-c6e3-d21284c55728"
      },
      "outputs": [
        {
          "data": {
            "text/plain": [
              "(1370, 1443)"
            ]
          },
          "execution_count": 8,
          "metadata": {},
          "output_type": "execute_result"
        }
      ],
      "source": [
        "X_train2.shape"
      ]
    },
    {
      "cell_type": "code",
      "execution_count": null,
      "metadata": {
        "id": "mcn7wh0MVdbj"
      },
      "outputs": [],
      "source": [
        "from feature_engine.selection import DropConstantFeatures,DropDuplicateFeatures"
      ]
    },
    {
      "cell_type": "code",
      "execution_count": null,
      "metadata": {
        "colab": {
          "base_uri": "https://localhost:8080/"
        },
        "id": "fqmnXoCpXW2C",
        "outputId": "2ed45e70-dac1-48bf-ffe1-8f10e5102461"
      },
      "outputs": [
        {
          "output_type": "stream",
          "name": "stdout",
          "text": [
            "0\n"
          ]
        }
      ],
      "source": [
        "sel1 = DropConstantFeatures(tol=1, variables=None, missing_values='raise')\n",
        "X_train1=sel1.fit_transform(X_train1)\n",
        "print(len(sel1.features_to_drop_))"
      ]
    },
    {
      "cell_type": "code",
      "execution_count": null,
      "metadata": {
        "colab": {
          "base_uri": "https://localhost:8080/"
        },
        "id": "Tojn6oVQXW8i",
        "outputId": "a2215166-28f7-4d86-f70c-c540b11d97c5"
      },
      "outputs": [
        {
          "output_type": "stream",
          "name": "stdout",
          "text": [
            "237\n"
          ]
        }
      ],
      "source": [
        "sel2 = DropConstantFeatures(tol=1, variables=None, missing_values='raise')\n",
        "X_train2=sel2.fit_transform(X_train2)\n",
        "print(len(sel2.features_to_drop_))"
      ]
    },
    {
      "cell_type": "code",
      "execution_count": null,
      "metadata": {
        "colab": {
          "base_uri": "https://localhost:8080/"
        },
        "id": "KOYJZhz-XAzy",
        "outputId": "aabc8239-5c4a-40a8-f547-21518eb2f280"
      },
      "outputs": [
        {
          "output_type": "stream",
          "name": "stdout",
          "text": [
            "239\n"
          ]
        }
      ],
      "source": [
        "sel3 = DropConstantFeatures(tol=1, variables=None, missing_values='raise')\n",
        "x_train3=sel3.fit_transform(X_train3)\n",
        "print(len(sel3.features_to_drop_))\n",
        "liste_3=sel3.features_to_drop_"
      ]
    },
    {
      "cell_type": "code",
      "execution_count": null,
      "metadata": {
        "colab": {
          "base_uri": "https://localhost:8080/"
        },
        "id": "4g2ekI2hX9aO",
        "outputId": "dadb4abf-1c23-4312-9364-fdf04a778982"
      },
      "outputs": [
        {
          "output_type": "stream",
          "name": "stdout",
          "text": [
            "242\n"
          ]
        }
      ],
      "source": [
        "sel4 = DropConstantFeatures(tol=1, variables=None, missing_values='raise')\n",
        "x_train4=sel4.fit_transform(X_train4)\n",
        "print(len(sel4.features_to_drop_))\n",
        "liste_4=sel4.features_to_drop_"
      ]
    },
    {
      "cell_type": "code",
      "execution_count": null,
      "metadata": {
        "colab": {
          "base_uri": "https://localhost:8080/"
        },
        "id": "CrAPuVjrX9cm",
        "outputId": "fd26815f-1a40-4817-fd8b-83516b22c561"
      },
      "outputs": [
        {
          "output_type": "stream",
          "name": "stdout",
          "text": [
            "241\n"
          ]
        }
      ],
      "source": [
        "sel5 = DropConstantFeatures(tol=1, variables=None, missing_values='raise')\n",
        "x_train5=sel5.fit_transform(X_train5)\n",
        "print(len(sel5.features_to_drop_))\n",
        "liste_5=sel5.features_to_drop_"
      ]
    },
    {
      "cell_type": "code",
      "execution_count": null,
      "metadata": {
        "colab": {
          "base_uri": "https://localhost:8080/"
        },
        "id": "ve7Ofkr_sw1o",
        "outputId": "90b7dd9e-57cb-4b1d-89c1-9944823f2a6c"
      },
      "outputs": [
        {
          "name": "stderr",
          "output_type": "stream",
          "text": [
            "100%|██████████| 100/100 [00:22<00:00,  4.48it/s]\n"
          ]
        }
      ],
      "source": [
        "# from mrmr import mrmr_classif\n",
        "# selected_features1 = mrmr_classif(X_train1, y_train1, K=100)"
      ]
    },
    {
      "cell_type": "code",
      "execution_count": null,
      "metadata": {
        "colab": {
          "background_save": true,
          "base_uri": "https://localhost:8080/"
        },
        "id": "HeOYC_9jsxDZ",
        "outputId": "a6a0c433-a2e0-4f68-eaaa-426a075e581f"
      },
      "outputs": [
        {
          "name": "stderr",
          "output_type": "stream",
          "text": [
            "100%|██████████| 100/100 [01:01<00:00,  1.63it/s]\n"
          ]
        }
      ],
      "source": [
        "# selected_features2 = mrmr_classif(X_train2, y_train2, K=100)"
      ]
    },
    {
      "cell_type": "code",
      "execution_count": null,
      "metadata": {
        "id": "U-9s3x1EsxSv"
      },
      "outputs": [],
      "source": [
        "# selected_features3 = mrmr_classif(X_train3, y_train3, K=700)"
      ]
    },
    {
      "cell_type": "code",
      "execution_count": null,
      "metadata": {
        "id": "107Ov4mjsxiI"
      },
      "outputs": [],
      "source": [
        "# selected_features4 = mrmr_classif(X_train4, y_train4, K=700)"
      ]
    },
    {
      "cell_type": "code",
      "execution_count": null,
      "metadata": {
        "id": "CkgcFfy0sxvr"
      },
      "outputs": [],
      "source": [
        "# selected_features5 = mrmr_classif(X_train5, y_train5, K=700)"
      ]
    },
    {
      "cell_type": "code",
      "execution_count": null,
      "metadata": {
        "id": "TLRwu5PXVI8r"
      },
      "outputs": [],
      "source": [
        "import catboost\n",
        "import pandas as pd\n",
        "from catboost import CatBoostClassifier\n",
        "\n",
        "# Create an instance of the CatBoostClassifier class\n",
        "model = CatBoostClassifier(\n",
        "    iterations=3000, # Adjust the number of boosting iterations as desired\n",
        "    learning_rate=0.1, # Adjust the learning rate as desired\n",
        "    random_seed=42, # Use a fixed random seed for reproducibility\n",
        "    custom_loss=[\"AUC\", \"Accuracy\"] # Set up custom metrics if desired\n",
        ")\n",
        "\n",
        "model.fit(X_train1, y_train1,verbose=False)\n",
        "y_test1 = model.predict(sel1.transform(X_test1))\n",
        "\n",
        "model.fit(X_train2, y_train2,verbose=False)\n",
        "y_test2 = model.predict(sel2.transform(X_test2))\n",
        "\n",
        "model.fit(X_train3, y_train3,verbose=False)\n",
        "y_test3 = model.predict(sel3.transform(X_test3))\n",
        "\n",
        "\n",
        "model.fit(X_train4, y_train4,verbose=False)\n",
        "y_test4 = model.predict(sel4.transform(X_test4))\n",
        "\n",
        "model.fit(X_train5, y_train5,verbose=False)\n",
        "y_test5 = model.predict(sel5.transform(X_test5))"
      ]
    },
    {
      "cell_type": "code",
      "execution_count": null,
      "metadata": {
        "id": "JDhOpRI8dV6d"
      },
      "outputs": [],
      "source": [
        "submission = pd.DataFrame({\"Id\" : data_1_test['CHEMBL_ID'],\"Activity\" :y_test1})\n",
        "submission.to_csv(\"nidhal1.csv\",index=False)\n",
        "submission = pd.DataFrame({\"Id\" : data_2_test['CHEMBL_ID'],\"Activity\" :y_test2})\n",
        "submission.to_csv(\"nidhal2.csv\",index=False)\n",
        "submission = pd.DataFrame({\"Id\" : data_3_test['CHEMBL_ID'],\"Activity\" :y_test3})\n",
        "submission.to_csv(\"nidhal3.csv\",index=False)\n",
        "submission = pd.DataFrame({\"Id\" : data_4_test['CHEMBL_ID'],\"Activity\" :y_test4})\n",
        "submission.to_csv(\"nidhal4.csv\",index=False)\n",
        "submission = pd.DataFrame({\"Id\" : data_5_test['CHEMBL_ID'],\"Activity\" :y_test5})\n",
        "submission.to_csv(\"nidhal5.csv\",index=False)"
      ]
    },
    {
      "cell_type": "code",
      "execution_count": null,
      "metadata": {
        "id": "S6If2FKGVdks"
      },
      "outputs": [],
      "source": [
        "train_1 = pd.read_csv('nidhal1.csv')\n",
        "train_2 = pd.read_csv('nidhal2.csv')\n",
        "train_3 = pd.read_csv('nidhal3.csv')\n",
        "train_4 = pd.read_csv('nidhal4.csv')\n",
        "train_5 = pd.read_csv('nidhal5.csv')\n",
        "final_train = pd.concat([train_1,train_2,train_3,train_4,train_5,])\n",
        "\n",
        "final_train[\"Activity\"] = np.where(final_train[\"Activity\"] == 0,'nonactive', 'active')"
      ]
    },
    {
      "cell_type": "code",
      "execution_count": null,
      "metadata": {
        "id": "_uYImxTPVdnm"
      },
      "outputs": [],
      "source": [
        "final_train.to_csv(\"sub_rezki.csv\",index=False)"
      ]
    }
  ],
  "metadata": {
    "accelerator": "GPU",
    "colab": {
      "provenance": [],
      "include_colab_link": true
    },
    "gpuClass": "standard",
    "kernelspec": {
      "display_name": "Python 3",
      "name": "python3"
    },
    "language_info": {
      "name": "python"
    }
  },
  "nbformat": 4,
  "nbformat_minor": 0
}